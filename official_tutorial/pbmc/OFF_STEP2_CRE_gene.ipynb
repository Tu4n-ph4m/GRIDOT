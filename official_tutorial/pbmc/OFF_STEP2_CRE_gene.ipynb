{
 "cells": [
  {
   "cell_type": "code",
   "execution_count": 2,
   "id": "20e0026f",
   "metadata": {},
   "outputs": [],
   "source": [
    "# import dill\n",
    "import scanpy as sc\n",
    "import os\n",
    "import warnings\n",
    "warnings.filterwarnings(\"ignore\")\n",
    "import pandas as pd\n",
    "import numpy as np\n",
    "\n",
    "# import pyranges\n",
    "# Set stderr to null to avoid strange messages from ray\n",
    "import sys\n",
    "_stderr = sys.stderr\n",
    "null = open(os.devnull,'wb')\n",
    "from scipy.sparse import issparse\n",
    "\n",
    "\n",
    "import itertools\n",
    "import anndata\n",
    "import itertools\n",
    "import anndata\n",
    "import pandas as pd\n",
    "import numpy as np\n",
    "import matplotlib.pyplot as plt \n",
    "import warnings\n",
    "warnings.simplefilter(action='ignore')\n",
    "import numpy as np\n",
    "from sklearn.preprocessing import normalize\n",
    "\n",
    "from itertools import product\n",
    "import umap\n",
    "from collections import Counter\n",
    "from sklearn.decomposition import PCA\n",
    "from gridot.utils import *\n",
    "from gridot.train import *"
   ]
  },
  {
   "cell_type": "code",
   "execution_count": 3,
   "id": "4537241b",
   "metadata": {},
   "outputs": [
    {
     "data": {
      "text/plain": [
       "AnnData object with n_obs × n_vars = 2664 × 197784\n",
       "    obs: 'celltype', 'n_genes', 'orig.ident'\n",
       "    var: 'Chromosome', 'Start', 'End', 'n_cells', 'features', 'chr_no', 'start', 'end'"
      ]
     },
     "execution_count": 3,
     "metadata": {},
     "output_type": "execute_result"
    }
   ],
   "source": [
    "atac_anndata = sc.read_h5ad('./data/pseudo_atac_pbmc_binarized_20_20.h5ad')\n",
    "atac_anndata"
   ]
  },
  {
   "cell_type": "code",
   "execution_count": 4,
   "id": "90587cc2",
   "metadata": {},
   "outputs": [],
   "source": [
    "atac_anndata.var['chr_no'] = atac_anndata.var['Chromosome']\n",
    "atac_anndata.var['start'] = atac_anndata.var['Start']\n",
    "atac_anndata.var['end'] = atac_anndata.var['End']"
   ]
  },
  {
   "cell_type": "code",
   "execution_count": null,
   "id": "9bb0b619",
   "metadata": {},
   "outputs": [],
   "source": []
  },
  {
   "cell_type": "code",
   "execution_count": 5,
   "id": "4de0a1bf",
   "metadata": {},
   "outputs": [
    {
     "name": "stdout",
     "output_type": "stream",
     "text": [
      "AnnData object with n_obs × n_vars = 2664 × 21255\n",
      "    obs: 'n_genes', 'n_genes_by_counts', 'total_counts', 'total_counts_mt', 'pct_counts_mt', 'ingest_celltype_label', 'leiden_res_0.8', 'celltype'\n",
      "    var: 'gene_ids', 'feature_types', 'genome', 'n_cells', 'mt', 'n_cells_by_counts', 'mean_counts', 'pct_dropout_by_counts', 'total_counts'\n"
     ]
    }
   ],
   "source": [
    "rna_anndata = sc.read_h5ad('./data/adata.h5ad')\n",
    "\n",
    "# Check if raw data exists\n",
    "if rna_anndata.raw is not None:\n",
    "    # Access the raw data\n",
    "    raw_data = rna_anndata.raw.X\n",
    "    raw_obs = rna_anndata.obs.copy()  # Cell metadata (unchanged)\n",
    "    raw_var = rna_anndata.raw.var.copy()  # Gene metadata (original raw genes)\n",
    "\n",
    "    # Create a new AnnData object using the raw data\n",
    "    rna_anndata = sc.AnnData(X=raw_data, obs=raw_obs, var=raw_var)\n",
    "\n",
    "    # Print the new raw AnnData object to verify\n",
    "    print(rna_anndata)\n",
    "else:\n",
    "    print(\"The AnnData object does not contain raw data.\")"
   ]
  },
  {
   "cell_type": "code",
   "execution_count": 9,
   "id": "a3968e8b",
   "metadata": {},
   "outputs": [
    {
     "name": "stdout",
     "output_type": "stream",
     "text": [
      "Pre-processing scATAC-seq...\n",
      "AnnData object with n_obs × n_vars = 2664 × 197784\n",
      "    obs: 'celltype', 'n_genes', 'orig.ident'\n",
      "    var: 'Chromosome', 'Start', 'End', 'n_cells', 'features', 'chr_no', 'start', 'end'\n",
      "Pre-processing scRNA-seq...\n",
      "AnnData object with n_obs × n_vars = 2664 × 21167\n",
      "    obs: 'n_genes', 'n_genes_by_counts', 'total_counts', 'total_counts_mt', 'pct_counts_mt', 'ingest_celltype_label', 'leiden_res_0.8', 'celltype'\n",
      "    var: 'gene_ids', 'feature_types', 'genome', 'n_cells', 'mt', 'n_cells_by_counts', 'mean_counts', 'pct_dropout_by_counts', 'total_counts', 'features'\n",
      "Adding start site to meta file...\n",
      "Processing multimodal\n",
      "Running CRE-gene relationship analysis:\n",
      "Identifying candidate pairs within 100000.0 bp\n",
      "463449\n",
      "Running quadratic program... done.\n",
      "Cell with highest CD38 expression: ('CTAGCTTGTTGAGGTC-1', 1124)\n",
      "Expression level:   (0, 0)\t5.438936233520508\n",
      "WARNING: Trying to run `tl.dpt` without prior call of `tl.diffmap`. Falling back to `tl.diffmap` with default parameters.\n",
      "Epoch 0 (35.78 seconds): train loss 1885.62\n",
      "Epoch Inference (57.54 seconds): test loss 1786.72\n",
      "Total Time: 96.31233024597168 seconds\n",
      "Folder already exists at: ./testing_results_pseudo\n"
     ]
    }
   ],
   "source": [
    "import os\n",
    "\n",
    "schema_reference = 'rna'\n",
    "marker_gene = 'CD38'\n",
    "distance_threshold = 1e5\n",
    "device = 'cuda:0'\n",
    "num_components = 50\n",
    "gene_file = \"./data/gencode.v38.annotation.gff3\"\n",
    "base_folder_path = './testing_results_pseudo'\n",
    "# seeds = [1, 2, 3]\n",
    "\n",
    "# Preprocess once\n",
    "atac_adata, rna_adata = preprocessing_adata(atac_anndata, rna_anndata, gene_file=gene_file)\n",
    "print(\"Processing multimodal\")\n",
    "preprocess_multimodal(rna_adata, atac_adata)\n",
    "\n",
    "# Run for each seed\n",
    "# for seed in seeds:\n",
    "# seed_folder_path = os.path.join(base_folder_path, f\"seed_{seed}\")\n",
    "os.makedirs(base_folder_path, exist_ok=True)\n",
    "print(f\"Running CRE-gene relationship analysis:\")\n",
    "run_gridot_cell_population(\n",
    "    rna_adata,\n",
    "    atac_adata,\n",
    "    schema_reference=schema_reference,\n",
    "    marker_gene=marker_gene,\n",
    "    distance_threshold=distance_threshold,\n",
    "    device=device,\n",
    "    folder_path=base_folder_path,\n",
    "    seed=1\n",
    ")\n"
   ]
  },
  {
   "cell_type": "code",
   "execution_count": null,
   "id": "8cec0b16",
   "metadata": {},
   "outputs": [],
   "source": []
  }
 ],
 "metadata": {
  "kernelspec": {
   "display_name": "gridot",
   "language": "python",
   "name": "gridot"
  },
  "language_info": {
   "codemirror_mode": {
    "name": "ipython",
    "version": 3
   },
   "file_extension": ".py",
   "mimetype": "text/x-python",
   "name": "python",
   "nbconvert_exporter": "python",
   "pygments_lexer": "ipython3",
   "version": "3.11.5"
  }
 },
 "nbformat": 4,
 "nbformat_minor": 5
}
