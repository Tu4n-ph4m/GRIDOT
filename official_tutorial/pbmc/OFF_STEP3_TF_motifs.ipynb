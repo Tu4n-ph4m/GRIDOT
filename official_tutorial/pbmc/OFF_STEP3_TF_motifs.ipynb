{
 "cells": [
  {
   "cell_type": "code",
   "execution_count": 2,
   "id": "6df788b8",
   "metadata": {},
   "outputs": [],
   "source": [
    "import scanpy as sc\n",
    "import os\n",
    "import warnings\n",
    "warnings.filterwarnings(\"ignore\")\n",
    "import pandas\n",
    "\n",
    "import sys\n",
    "_stderr = sys.stderr\n",
    "null = open(os.devnull,'wb')\n",
    "\n",
    "\n",
    "\n",
    "import itertools\n",
    "import anndata\n",
    "import pandas as pd\n",
    "from pycistarget.motif_enrichment_cistarget import *\n"
   ]
  },
  {
   "cell_type": "code",
   "execution_count": 3,
   "id": "b395dc7b",
   "metadata": {},
   "outputs": [],
   "source": [
    "outfile = f\"./testing_results_pseudo/CRE_gene_cell_population.tsv\"\n"
   ]
  },
  {
   "cell_type": "code",
   "execution_count": 4,
   "id": "80dfab9b",
   "metadata": {},
   "outputs": [],
   "source": [
    "results = pd.read_csv(outfile, sep ='\\t',index_col = 0)"
   ]
  },
  {
   "cell_type": "code",
   "execution_count": 5,
   "id": "b8fb9085",
   "metadata": {},
   "outputs": [
    {
     "data": {
      "text/html": [
       "<div>\n",
       "<style scoped>\n",
       "    .dataframe tbody tr th:only-of-type {\n",
       "        vertical-align: middle;\n",
       "    }\n",
       "\n",
       "    .dataframe tbody tr th {\n",
       "        vertical-align: top;\n",
       "    }\n",
       "\n",
       "    .dataframe thead th {\n",
       "        text-align: right;\n",
       "    }\n",
       "</style>\n",
       "<table border=\"1\" class=\"dataframe\">\n",
       "  <thead>\n",
       "    <tr style=\"text-align: right;\">\n",
       "      <th></th>\n",
       "      <th>CRE</th>\n",
       "      <th>Gene</th>\n",
       "      <th>rss_ratio</th>\n",
       "      <th>ftest</th>\n",
       "      <th>dist</th>\n",
       "    </tr>\n",
       "  </thead>\n",
       "  <tbody>\n",
       "    <tr>\n",
       "      <th>0</th>\n",
       "      <td>chr1:818873-819373</td>\n",
       "      <td>LINC01409</td>\n",
       "      <td>0.994360</td>\n",
       "      <td>1.000000</td>\n",
       "      <td>40126</td>\n",
       "    </tr>\n",
       "    <tr>\n",
       "      <th>1</th>\n",
       "      <td>chr1:818873-819373</td>\n",
       "      <td>LINC01128</td>\n",
       "      <td>0.994249</td>\n",
       "      <td>1.000000</td>\n",
       "      <td>5765</td>\n",
       "    </tr>\n",
       "    <tr>\n",
       "      <th>2</th>\n",
       "      <td>chr1:818873-819373</td>\n",
       "      <td>LINC00115</td>\n",
       "      <td>1.010101</td>\n",
       "      <td>0.189526</td>\n",
       "      <td>6833</td>\n",
       "    </tr>\n",
       "    <tr>\n",
       "      <th>3</th>\n",
       "      <td>chr1:818873-819373</td>\n",
       "      <td>FAM41C</td>\n",
       "      <td>1.001277</td>\n",
       "      <td>0.999996</td>\n",
       "      <td>48698</td>\n",
       "    </tr>\n",
       "    <tr>\n",
       "      <th>4</th>\n",
       "      <td>chr1:826732-827232</td>\n",
       "      <td>LINC01409</td>\n",
       "      <td>0.994065</td>\n",
       "      <td>1.000000</td>\n",
       "      <td>47985</td>\n",
       "    </tr>\n",
       "    <tr>\n",
       "      <th>...</th>\n",
       "      <td>...</td>\n",
       "      <td>...</td>\n",
       "      <td>...</td>\n",
       "      <td>...</td>\n",
       "      <td>...</td>\n",
       "    </tr>\n",
       "    <tr>\n",
       "      <th>463444</th>\n",
       "      <td>chrX:3711655-3712155</td>\n",
       "      <td>PRKX-AS1</td>\n",
       "      <td>0.996472</td>\n",
       "      <td>1.000000</td>\n",
       "      <td>52168</td>\n",
       "    </tr>\n",
       "    <tr>\n",
       "      <th>463445</th>\n",
       "      <td>chrX:107714609-107715109</td>\n",
       "      <td>PRPS1</td>\n",
       "      <td>1.005139</td>\n",
       "      <td>0.890338</td>\n",
       "      <td>86181</td>\n",
       "    </tr>\n",
       "    <tr>\n",
       "      <th>463446</th>\n",
       "      <td>chrX:107714609-107715109</td>\n",
       "      <td>TSC22D3</td>\n",
       "      <td>0.999075</td>\n",
       "      <td>1.000000</td>\n",
       "      <td>1388</td>\n",
       "    </tr>\n",
       "    <tr>\n",
       "      <th>463447</th>\n",
       "      <td>chrX:107713000-107713500</td>\n",
       "      <td>PRPS1</td>\n",
       "      <td>1.005166</td>\n",
       "      <td>0.887591</td>\n",
       "      <td>84572</td>\n",
       "    </tr>\n",
       "    <tr>\n",
       "      <th>463448</th>\n",
       "      <td>chrX:107713000-107713500</td>\n",
       "      <td>TSC22D3</td>\n",
       "      <td>0.999073</td>\n",
       "      <td>1.000000</td>\n",
       "      <td>221</td>\n",
       "    </tr>\n",
       "  </tbody>\n",
       "</table>\n",
       "<p>463449 rows × 5 columns</p>\n",
       "</div>"
      ],
      "text/plain": [
       "                             CRE       Gene  rss_ratio     ftest   dist\n",
       "0             chr1:818873-819373  LINC01409   0.994360  1.000000  40126\n",
       "1             chr1:818873-819373  LINC01128   0.994249  1.000000   5765\n",
       "2             chr1:818873-819373  LINC00115   1.010101  0.189526   6833\n",
       "3             chr1:818873-819373     FAM41C   1.001277  0.999996  48698\n",
       "4             chr1:826732-827232  LINC01409   0.994065  1.000000  47985\n",
       "...                          ...        ...        ...       ...    ...\n",
       "463444      chrX:3711655-3712155   PRKX-AS1   0.996472  1.000000  52168\n",
       "463445  chrX:107714609-107715109      PRPS1   1.005139  0.890338  86181\n",
       "463446  chrX:107714609-107715109    TSC22D3   0.999075  1.000000   1388\n",
       "463447  chrX:107713000-107713500      PRPS1   1.005166  0.887591  84572\n",
       "463448  chrX:107713000-107713500    TSC22D3   0.999073  1.000000    221\n",
       "\n",
       "[463449 rows x 5 columns]"
      ]
     },
     "execution_count": 5,
     "metadata": {},
     "output_type": "execute_result"
    }
   ],
   "source": [
    "results"
   ]
  },
  {
   "cell_type": "code",
   "execution_count": 6,
   "id": "dcdf9a9a",
   "metadata": {},
   "outputs": [
    {
     "name": "stdout",
     "output_type": "stream",
     "text": [
      "         chr      start        end\n",
      "0       chr1     818873     819373\n",
      "1       chr1     818873     819373\n",
      "2       chr1     818873     819373\n",
      "3       chr1     818873     819373\n",
      "4       chr1     826732     827232\n",
      "...      ...        ...        ...\n",
      "463444  chrX    3711655    3712155\n",
      "463445  chrX  107714609  107715109\n",
      "463446  chrX  107714609  107715109\n",
      "463447  chrX  107713000  107713500\n",
      "463448  chrX  107713000  107713500\n",
      "\n",
      "[463449 rows x 3 columns]\n"
     ]
    }
   ],
   "source": [
    "split_columns = results['CRE'].str.split(':|-', expand=True)\n",
    "split_columns.columns = ['chr', 'start', 'end']  # Rename the new columns\n",
    "results = pd.concat([results, split_columns], axis=1)\n",
    "# df.rename(columns={'Y_names': 'new_column_name'}, inplace=True)\n",
    "grouped = results.groupby(\"Gene\")\n",
    "results = results[['chr', 'start', 'end']]\n",
    "# results['chr'] = 'chr'+results['chr']\n",
    "\n",
    "print(results)"
   ]
  },
  {
   "cell_type": "code",
   "execution_count": 7,
   "id": "2ddc2705",
   "metadata": {},
   "outputs": [
    {
     "name": "stdout",
     "output_type": "stream",
     "text": [
      "./testing_results_pseudo/TF_motif/bedfile/\n"
     ]
    }
   ],
   "source": [
    "import os\n",
    "outDir =f'./testing_results_pseudo/TF_motif/bedfile/'\n",
    "if not os.path.exists(outDir):\n",
    "    print(outDir)\n",
    "    os.makedirs(outDir)"
   ]
  },
  {
   "cell_type": "code",
   "execution_count": 8,
   "id": "e3d6733c",
   "metadata": {},
   "outputs": [],
   "source": [
    "top_percentile = 0.01\n",
    "\n",
    "for category, group in grouped:\n",
    "\n",
    "    if \"/\" in category:\n",
    "        continue\n",
    "    threshold_value = group['rss_ratio'].quantile(1 - top_percentile)\n",
    "\n",
    "    top_rows = group[group['rss_ratio'] >= threshold_value]\n",
    "    top_rows = top_rows[['chr', 'start', 'end']]\n",
    "    top_rows.to_csv(outDir+category+\".bed\",sep=\"\\t\",index=False)"
   ]
  },
  {
   "cell_type": "code",
   "execution_count": 9,
   "id": "aa47ce60",
   "metadata": {},
   "outputs": [
    {
     "name": "stdout",
     "output_type": "stream",
     "text": [
      "./testing_results_pseudo/TF_motif/bedfile/\n"
     ]
    }
   ],
   "source": [
    "import pyranges as pr\n",
    "import os\n",
    "path_to_region_sets = outDir\n",
    "print(path_to_region_sets)\n",
    "region_sets_files = os.listdir(path_to_region_sets)\n",
    "region_sets = {}\n",
    "i=0\n",
    "for x in region_sets_files:\n",
    "#     print(x)\n",
    "#     x.replace('.bed', '')\n",
    "    temp_doc = pr.read_bed(os.path.join(path_to_region_sets, x)) \n",
    "#     print(x,len(temp_doc))\n",
    "    if len(temp_doc) <5:\n",
    "        continue\n",
    "    else:\n",
    "        i+=1\n",
    "#         print(len(temp_doc),i)\n",
    "        region_sets[x.replace('.bed', '')] = temp_doc"
   ]
  },
  {
   "cell_type": "code",
   "execution_count": 10,
   "id": "84e8e70c",
   "metadata": {
    "scrolled": true
   },
   "outputs": [],
   "source": [
    "db = './data/hg38_screen_v10_clust.regions_vs_motifs.rankings.feather'"
   ]
  },
  {
   "cell_type": "code",
   "execution_count": 11,
   "id": "1bea897a",
   "metadata": {},
   "outputs": [],
   "source": [
    "def identify_all_TF_gene_link_candidates(rna_TF_dictionary):\n",
    "\n",
    "    # Flattening the dictionary\n",
    "    flat_data = [(v, k) for k, lst in rna_TF_dictionary.items() for v in lst ]\n",
    "\n",
    "    # Creating DataFrame\n",
    "    df = pd.DataFrame(flat_data, columns=['TF', 'Gene'])\n",
    "    return df"
   ]
  },
  {
   "cell_type": "code",
   "execution_count": 12,
   "id": "f4f1d4b5",
   "metadata": {},
   "outputs": [],
   "source": [
    "def read_dictionary_in_chunks(dictionary, chunk_size, db, specie='homo_sapiens', outDir=outDir):\n",
    "    keys = list(dictionary.keys())\n",
    "    print(f\"Total keys: {len(keys)}\")\n",
    "    \n",
    "    os.makedirs(outDir, exist_ok=True)  # Ensure output directory exists\n",
    "\n",
    "    for i in range(0, len(keys), chunk_size):\n",
    "        print(f\"{i}\")\n",
    "        chunk = {key: dictionary[key] for key in keys[i:i + chunk_size]}\n",
    "\n",
    "        try:\n",
    "            print(\"Initializing database...\")\n",
    "            ctx_db = cisTargetDatabase(db, chunk)\n",
    "\n",
    "            print(\"Running cisTarget...\")\n",
    "            cistarget_dict = run_cistarget(\n",
    "                ctx_db=ctx_db,\n",
    "                region_sets=chunk,\n",
    "                specie=specie,\n",
    "                annotation_version='v10nr_clust',\n",
    "                auc_threshold=0.005,\n",
    "                nes_threshold=3.0,\n",
    "                rank_threshold=0.05,\n",
    "                annotation=['Direct_annot', 'Orthology_annot'],\n",
    "                n_cpu=18,\n",
    "                _temp_dir='/users/tpham43/'\n",
    "            )\n",
    "            \n",
    "            print(\"Processing cisTarget results...\")\n",
    "            filtered_data = {\n",
    "                key: [TF.split('_')[0] for TF in values.cistromes['Region_set'].keys()]\n",
    "                for key, values in cistarget_dict.items()\n",
    "            }\n",
    "\n",
    "            output_file = os.path.join(outDir, f\"TF_gene_OT_{i}.csv\")\n",
    "            print(f\"Writing results to {output_file}\")\n",
    "            identify_all_TF_gene_link_candidates(filtered_data).to_csv(output_file)\n",
    "\n",
    "        except Exception as e:\n",
    "            print(f\"Error processing chunk starting at index {i}: {e}\")\n",
    "            continue\n",
    "\n",
    "\n",
    "        \n",
    "        \n",
    "        \n",
    "\n",
    "\n",
    "\n",
    "\n",
    "\n"
   ]
  },
  {
   "cell_type": "code",
   "execution_count": 13,
   "id": "65e80c3b",
   "metadata": {},
   "outputs": [
    {
     "name": "stdout",
     "output_type": "stream",
     "text": [
      "Total keys: 4849\n",
      "0\n",
      "Initializing database...\n",
      "2025-07-05 17:31:00,595 cisTarget    INFO     Reading cisTarget database\n"
     ]
    },
    {
     "name": "stderr",
     "output_type": "stream",
     "text": [
      "\n",
      "KeyboardInterrupt\n",
      "\n"
     ]
    }
   ],
   "source": [
    "import ray\n",
    "ray.shutdown()\n",
    "read_dictionary_in_chunks(region_sets,200,db =db)"
   ]
  },
  {
   "cell_type": "code",
   "execution_count": null,
   "id": "7ff6c4d3",
   "metadata": {},
   "outputs": [],
   "source": []
  },
  {
   "cell_type": "code",
   "execution_count": 14,
   "id": "5ece1180",
   "metadata": {},
   "outputs": [
    {
     "name": "stdout",
     "output_type": "stream",
     "text": [
      "AnnData object with n_obs × n_vars = 2664 × 21255\n",
      "    obs: 'n_genes', 'n_genes_by_counts', 'total_counts', 'total_counts_mt', 'pct_counts_mt', 'ingest_celltype_label', 'leiden_res_0.8', 'celltype'\n",
      "    var: 'gene_ids', 'feature_types', 'genome', 'n_cells', 'mt', 'n_cells_by_counts', 'mean_counts', 'pct_dropout_by_counts', 'total_counts'\n",
      "Done\n"
     ]
    }
   ],
   "source": [
    "# Specify the folder path\n",
    "folder_path = outDir\n",
    "\n",
    "# Get a list of all files in the folder\n",
    "all_files = [os.path.join(folder_path, f) for f in os.listdir(folder_path) if os.path.isfile(os.path.join(folder_path, f))]\n",
    "\n",
    "# Filter the list for CSV files\n",
    "csv_files = [f for f in all_files if f.endswith('.csv')]\n",
    "\n",
    "# Read all CSV files into a list of DataFrames\n",
    "dataframes = [pd.read_csv(f,index_col=0) for f in csv_files]\n",
    "\n",
    "# Combine all DataFrames into a single DataFrame\n",
    "candidate_df = pd.concat(dataframes, ignore_index=True)\n",
    "\n",
    "candidate_df = candidate_df.drop_duplicates()\n",
    "rna_anndata = sc.read_h5ad(\"./data/adata.h5ad\")\n",
    "\n",
    "# rna_anndata = sc.read_h5ad('./data/rna_downsampled_snare.h5ad')\n",
    "\n",
    "# Check if raw data exists\n",
    "if rna_anndata.raw is not None:\n",
    "    # Access the raw data\n",
    "    raw_data = rna_anndata.raw.X\n",
    "    raw_obs = rna_anndata.obs.copy()  # Cell metadata (unchanged)\n",
    "    raw_var = rna_anndata.raw.var.copy()  # Gene metadata (original raw genes)\n",
    "\n",
    "    # Create a new AnnData object using the raw data\n",
    "    rna_anndata = sc.AnnData(X=raw_data, obs=raw_obs, var=raw_var)\n",
    "\n",
    "    # Print the new raw AnnData object to verify\n",
    "    print(rna_anndata)\n",
    "\n",
    "candidate_df = candidate_df[candidate_df['Gene'].isin(rna_anndata.var.index.values)]\n",
    "\n",
    "# candidate_df.rename(columns={'TF': 'Source', 'Gene': 'Target'}, inplace=True)\n",
    "\n",
    "candidate_df.to_csv(f\"./testing_results_pseudo/TF_motif/putative_TF_gene.tsv\",sep = '\\t')\n",
    "\n",
    "print(\"Done\")\n"
   ]
  },
  {
   "cell_type": "code",
   "execution_count": null,
   "id": "9cede8ee",
   "metadata": {},
   "outputs": [],
   "source": []
  }
 ],
 "metadata": {
  "kernelspec": {
   "display_name": "scenicplus",
   "language": "python",
   "name": "scenicplus"
  },
  "language_info": {
   "codemirror_mode": {
    "name": "ipython",
    "version": 3
   },
   "file_extension": ".py",
   "mimetype": "text/x-python",
   "name": "python",
   "nbconvert_exporter": "python",
   "pygments_lexer": "ipython3",
   "version": "3.9.16"
  }
 },
 "nbformat": 4,
 "nbformat_minor": 5
}
