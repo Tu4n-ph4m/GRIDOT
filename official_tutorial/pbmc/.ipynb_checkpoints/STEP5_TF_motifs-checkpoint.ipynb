{
 "cells": [
  {
   "cell_type": "code",
   "execution_count": 1,
   "id": "6df788b8",
   "metadata": {},
   "outputs": [],
   "source": [
    "import scanpy as sc\n",
    "import os\n",
    "import warnings\n",
    "warnings.filterwarnings(\"ignore\")\n",
    "import pandas\n",
    "# import pyranges\n",
    "# Set stderr to null to avoid strange messages from ray\n",
    "import sys\n",
    "_stderr = sys.stderr\n",
    "null = open(os.devnull,'wb')\n",
    "\n",
    "\n",
    "# from loomxpy.loomxpy import SCopeLoom\n",
    "# from pycisTopic.loom import *\n",
    "import itertools\n",
    "import anndata\n",
    "import pandas as pd\n",
    "# Load cistarget functions\n",
    "from pycistarget.motif_enrichment_cistarget import *\n",
    "# from pycistarget.motif_enrichment_cistarget import run_ctx\n",
    "# import pycistarget.motif_enrichment_cistarget as mec\n",
    "# print(dir(mec))"
   ]
  },
  {
   "cell_type": "code",
   "execution_count": 2,
   "id": "b395dc7b",
   "metadata": {},
   "outputs": [],
   "source": [
    "outfile = f\"./testing_results/CRE_gene_cell_population.tsv\"\n"
   ]
  },
  {
   "cell_type": "code",
   "execution_count": 3,
   "id": "80dfab9b",
   "metadata": {},
   "outputs": [],
   "source": [
    "results = pd.read_csv(outfile, sep ='\\t',index_col = 0)"
   ]
  },
  {
   "cell_type": "code",
   "execution_count": 4,
   "id": "b8fb9085",
   "metadata": {},
   "outputs": [
    {
     "data": {
      "text/html": [
       "<div>\n",
       "<style scoped>\n",
       "    .dataframe tbody tr th:only-of-type {\n",
       "        vertical-align: middle;\n",
       "    }\n",
       "\n",
       "    .dataframe tbody tr th {\n",
       "        vertical-align: top;\n",
       "    }\n",
       "\n",
       "    .dataframe thead th {\n",
       "        text-align: right;\n",
       "    }\n",
       "</style>\n",
       "<table border=\"1\" class=\"dataframe\">\n",
       "  <thead>\n",
       "    <tr style=\"text-align: right;\">\n",
       "      <th></th>\n",
       "      <th>CRE</th>\n",
       "      <th>Gene</th>\n",
       "      <th>rss_ratio</th>\n",
       "      <th>ftest</th>\n",
       "      <th>dist</th>\n",
       "    </tr>\n",
       "  </thead>\n",
       "  <tbody>\n",
       "    <tr>\n",
       "      <th>0</th>\n",
       "      <td>chr1:826732-827232</td>\n",
       "      <td>LINC01409</td>\n",
       "      <td>1.006433</td>\n",
       "      <td>0.718244</td>\n",
       "      <td>47985</td>\n",
       "    </tr>\n",
       "    <tr>\n",
       "      <th>1</th>\n",
       "      <td>chr1:826732-827232</td>\n",
       "      <td>LINC01128</td>\n",
       "      <td>1.016668</td>\n",
       "      <td>0.002699</td>\n",
       "      <td>1594</td>\n",
       "    </tr>\n",
       "    <tr>\n",
       "      <th>2</th>\n",
       "      <td>chr1:826732-827232</td>\n",
       "      <td>LINC00115</td>\n",
       "      <td>0.997129</td>\n",
       "      <td>1.000000</td>\n",
       "      <td>526</td>\n",
       "    </tr>\n",
       "    <tr>\n",
       "      <th>3</th>\n",
       "      <td>chr1:826732-827232</td>\n",
       "      <td>FAM41C</td>\n",
       "      <td>1.002458</td>\n",
       "      <td>0.998982</td>\n",
       "      <td>40839</td>\n",
       "    </tr>\n",
       "    <tr>\n",
       "      <th>4</th>\n",
       "      <td>chr1:844442-844942</td>\n",
       "      <td>LINC01409</td>\n",
       "      <td>1.006245</td>\n",
       "      <td>0.747477</td>\n",
       "      <td>65695</td>\n",
       "    </tr>\n",
       "    <tr>\n",
       "      <th>...</th>\n",
       "      <td>...</td>\n",
       "      <td>...</td>\n",
       "      <td>...</td>\n",
       "      <td>...</td>\n",
       "      <td>...</td>\n",
       "    </tr>\n",
       "    <tr>\n",
       "      <th>244135</th>\n",
       "      <td>chrX:3711655-3712155</td>\n",
       "      <td>PRKX-AS1</td>\n",
       "      <td>0.989638</td>\n",
       "      <td>1.000000</td>\n",
       "      <td>52168</td>\n",
       "    </tr>\n",
       "    <tr>\n",
       "      <th>244136</th>\n",
       "      <td>chrX:107714609-107715109</td>\n",
       "      <td>PRPS1</td>\n",
       "      <td>1.002103</td>\n",
       "      <td>0.999699</td>\n",
       "      <td>86181</td>\n",
       "    </tr>\n",
       "    <tr>\n",
       "      <th>244137</th>\n",
       "      <td>chrX:107714609-107715109</td>\n",
       "      <td>TSC22D3</td>\n",
       "      <td>1.006423</td>\n",
       "      <td>0.719875</td>\n",
       "      <td>1388</td>\n",
       "    </tr>\n",
       "    <tr>\n",
       "      <th>244138</th>\n",
       "      <td>chrX:107713000-107713500</td>\n",
       "      <td>PRPS1</td>\n",
       "      <td>1.002203</td>\n",
       "      <td>0.999564</td>\n",
       "      <td>84572</td>\n",
       "    </tr>\n",
       "    <tr>\n",
       "      <th>244139</th>\n",
       "      <td>chrX:107713000-107713500</td>\n",
       "      <td>TSC22D3</td>\n",
       "      <td>1.006267</td>\n",
       "      <td>0.744026</td>\n",
       "      <td>221</td>\n",
       "    </tr>\n",
       "  </tbody>\n",
       "</table>\n",
       "<p>244140 rows × 5 columns</p>\n",
       "</div>"
      ],
      "text/plain": [
       "                             CRE       Gene  rss_ratio     ftest   dist\n",
       "0             chr1:826732-827232  LINC01409   1.006433  0.718244  47985\n",
       "1             chr1:826732-827232  LINC01128   1.016668  0.002699   1594\n",
       "2             chr1:826732-827232  LINC00115   0.997129  1.000000    526\n",
       "3             chr1:826732-827232     FAM41C   1.002458  0.998982  40839\n",
       "4             chr1:844442-844942  LINC01409   1.006245  0.747477  65695\n",
       "...                          ...        ...        ...       ...    ...\n",
       "244135      chrX:3711655-3712155   PRKX-AS1   0.989638  1.000000  52168\n",
       "244136  chrX:107714609-107715109      PRPS1   1.002103  0.999699  86181\n",
       "244137  chrX:107714609-107715109    TSC22D3   1.006423  0.719875   1388\n",
       "244138  chrX:107713000-107713500      PRPS1   1.002203  0.999564  84572\n",
       "244139  chrX:107713000-107713500    TSC22D3   1.006267  0.744026    221\n",
       "\n",
       "[244140 rows x 5 columns]"
      ]
     },
     "execution_count": 4,
     "metadata": {},
     "output_type": "execute_result"
    }
   ],
   "source": [
    "results"
   ]
  },
  {
   "cell_type": "code",
   "execution_count": 5,
   "id": "dcdf9a9a",
   "metadata": {},
   "outputs": [
    {
     "name": "stdout",
     "output_type": "stream",
     "text": [
      "         chr      start        end\n",
      "0       chr1     826732     827232\n",
      "1       chr1     826732     827232\n",
      "2       chr1     826732     827232\n",
      "3       chr1     826732     827232\n",
      "4       chr1     844442     844942\n",
      "...      ...        ...        ...\n",
      "244135  chrX    3711655    3712155\n",
      "244136  chrX  107714609  107715109\n",
      "244137  chrX  107714609  107715109\n",
      "244138  chrX  107713000  107713500\n",
      "244139  chrX  107713000  107713500\n",
      "\n",
      "[244140 rows x 3 columns]\n"
     ]
    }
   ],
   "source": [
    "split_columns = results['CRE'].str.split(':|-', expand=True)\n",
    "split_columns.columns = ['chr', 'start', 'end']  # Rename the new columns\n",
    "results = pd.concat([results, split_columns], axis=1)\n",
    "# df.rename(columns={'Y_names': 'new_column_name'}, inplace=True)\n",
    "grouped = results.groupby(\"Gene\")\n",
    "results = results[['chr', 'start', 'end']]\n",
    "# results['chr'] = 'chr'+results['chr']\n",
    "\n",
    "print(results)"
   ]
  },
  {
   "cell_type": "code",
   "execution_count": 6,
   "id": "2ddc2705",
   "metadata": {},
   "outputs": [
    {
     "name": "stdout",
     "output_type": "stream",
     "text": [
      "./testing_results/TF_motif/bedfile/\n"
     ]
    }
   ],
   "source": [
    "import os\n",
    "outDir =f'./testing_results/TF_motif/bedfile/'\n",
    "if not os.path.exists(outDir):\n",
    "    print(outDir)\n",
    "    os.makedirs(outDir)"
   ]
  },
  {
   "cell_type": "code",
   "execution_count": null,
   "id": "e3d6733c",
   "metadata": {},
   "outputs": [],
   "source": [
    "top_percentile = 0.05\n",
    "\n",
    "for category, group in grouped:\n",
    "\n",
    "    if \"/\" in category:\n",
    "        continue\n",
    "    threshold_value = group['rss_ratio'].quantile(1 - top_percentile)\n",
    "\n",
    "    top_rows = group[group['rss_ratio'] >= threshold_value]\n",
    "    top_rows = top_rows[['chr', 'start', 'end']]\n",
    "    top_rows.to_csv(outDir+category+\".bed\",sep=\"\\t\",index=False)"
   ]
  },
  {
   "cell_type": "code",
   "execution_count": 8,
   "id": "aa47ce60",
   "metadata": {},
   "outputs": [
    {
     "name": "stdout",
     "output_type": "stream",
     "text": [
      "./results/TF_motif/bedfile/\n"
     ]
    },
    {
     "ename": "IndexError",
     "evalue": "list index out of range",
     "output_type": "error",
     "traceback": [
      "\u001b[0;31m---------------------------------------------------------------------------\u001b[0m",
      "\u001b[0;31mIndexError\u001b[0m                                Traceback (most recent call last)",
      "Cell \u001b[0;32mIn[8], line 11\u001b[0m\n\u001b[1;32m      7\u001b[0m i\u001b[38;5;241m=\u001b[39m\u001b[38;5;241m0\u001b[39m\n\u001b[1;32m      8\u001b[0m \u001b[38;5;28;01mfor\u001b[39;00m x \u001b[38;5;129;01min\u001b[39;00m region_sets_files:\n\u001b[1;32m      9\u001b[0m \u001b[38;5;66;03m#     print(x)\u001b[39;00m\n\u001b[1;32m     10\u001b[0m \u001b[38;5;66;03m#     x.replace('.bed', '')\u001b[39;00m\n\u001b[0;32m---> 11\u001b[0m     temp_doc \u001b[38;5;241m=\u001b[39m \u001b[43mpr\u001b[49m\u001b[38;5;241;43m.\u001b[39;49m\u001b[43mread_bed\u001b[49m\u001b[43m(\u001b[49m\u001b[43mos\u001b[49m\u001b[38;5;241;43m.\u001b[39;49m\u001b[43mpath\u001b[49m\u001b[38;5;241;43m.\u001b[39;49m\u001b[43mjoin\u001b[49m\u001b[43m(\u001b[49m\u001b[43mpath_to_region_sets\u001b[49m\u001b[43m,\u001b[49m\u001b[43m \u001b[49m\u001b[43mx\u001b[49m\u001b[43m)\u001b[49m\u001b[43m)\u001b[49m \n\u001b[1;32m     12\u001b[0m \u001b[38;5;66;03m#     print(x,len(temp_doc))\u001b[39;00m\n\u001b[1;32m     13\u001b[0m     \u001b[38;5;28;01mif\u001b[39;00m \u001b[38;5;28mlen\u001b[39m(temp_doc) \u001b[38;5;241m<\u001b[39m\u001b[38;5;241m20\u001b[39m:\n",
      "File \u001b[0;32m/oscar/data/rsingh47/tpham43/gridot_env/lib/python3.11/site-packages/pyranges/readers.py:79\u001b[0m, in \u001b[0;36mread_bed\u001b[0;34m(f, as_df, nrows)\u001b[0m\n\u001b[1;32m     77\u001b[0m     first_start \u001b[38;5;241m=\u001b[39m gzip\u001b[38;5;241m.\u001b[39mopen(f)\u001b[38;5;241m.\u001b[39mreadline()\u001b[38;5;241m.\u001b[39msplit()[\u001b[38;5;241m1\u001b[39m]\n\u001b[1;32m     78\u001b[0m \u001b[38;5;28;01melse\u001b[39;00m:\n\u001b[0;32m---> 79\u001b[0m     first_start \u001b[38;5;241m=\u001b[39m \u001b[38;5;28;43mopen\u001b[39;49m\u001b[43m(\u001b[49m\u001b[43mf\u001b[49m\u001b[43m)\u001b[49m\u001b[38;5;241;43m.\u001b[39;49m\u001b[43mreadline\u001b[49m\u001b[43m(\u001b[49m\u001b[43m)\u001b[49m\u001b[38;5;241;43m.\u001b[39;49m\u001b[43msplit\u001b[49m\u001b[43m(\u001b[49m\u001b[43m)\u001b[49m\u001b[43m[\u001b[49m\u001b[38;5;241;43m1\u001b[39;49m\u001b[43m]\u001b[49m\n\u001b[1;32m     81\u001b[0m header \u001b[38;5;241m=\u001b[39m \u001b[38;5;28;01mNone\u001b[39;00m\n\u001b[1;32m     83\u001b[0m \u001b[38;5;28;01mtry\u001b[39;00m:\n",
      "\u001b[0;31mIndexError\u001b[0m: list index out of range"
     ]
    }
   ],
   "source": [
    "import pyranges as pr\n",
    "import os\n",
    "path_to_region_sets = outDir\n",
    "print(path_to_region_sets)\n",
    "region_sets_files = os.listdir(path_to_region_sets)\n",
    "region_sets = {}\n",
    "i=0\n",
    "for x in region_sets_files:\n",
    "#     print(x)\n",
    "#     x.replace('.bed', '')\n",
    "    temp_doc = pr.read_bed(os.path.join(path_to_region_sets, x)) \n",
    "#     print(x,len(temp_doc))\n",
    "    if len(temp_doc) <20:\n",
    "        continue\n",
    "    else:\n",
    "        i+=1\n",
    "#         print(len(temp_doc),i)\n",
    "        region_sets[x.replace('.bed', '')] = temp_doc"
   ]
  },
  {
   "cell_type": "code",
   "execution_count": null,
   "id": "84e8e70c",
   "metadata": {
    "scrolled": true
   },
   "outputs": [],
   "source": [
    "db = './data/hg38_screen_v10_clust.regions_vs_motifs.rankings.feather'"
   ]
  },
  {
   "cell_type": "code",
   "execution_count": null,
   "id": "1bea897a",
   "metadata": {},
   "outputs": [],
   "source": [
    "def identify_all_TF_gene_link_candidates(rna_TF_dictionary):\n",
    "\n",
    "    # Flattening the dictionary\n",
    "    flat_data = [(v, k) for k, lst in rna_TF_dictionary.items() for v in lst ]\n",
    "\n",
    "    # Creating DataFrame\n",
    "    df = pd.DataFrame(flat_data, columns=['TF', 'Gene'])\n",
    "    return df"
   ]
  },
  {
   "cell_type": "code",
   "execution_count": null,
   "id": "f4f1d4b5",
   "metadata": {},
   "outputs": [],
   "source": [
    "def read_dictionary_in_chunks(dictionary, chunk_size, db, specie='homo_sapiens', outDir=outDir):\n",
    "    keys = list(dictionary.keys())\n",
    "    print(f\"Total keys: {len(keys)}\")\n",
    "    \n",
    "    os.makedirs(outDir, exist_ok=True)  # Ensure output directory exists\n",
    "\n",
    "    for i in range(0, len(keys), chunk_size):\n",
    "        print(f\"{i}\")\n",
    "        chunk = {key: dictionary[key] for key in keys[i:i + chunk_size]}\n",
    "\n",
    "        try:\n",
    "            print(\"Initializing database...\")\n",
    "            ctx_db = cisTargetDatabase(db, chunk)\n",
    "\n",
    "            print(\"Running cisTarget...\")\n",
    "            cistarget_dict = run_cistarget(\n",
    "                ctx_db=ctx_db,\n",
    "                region_sets=chunk,\n",
    "                specie=specie,\n",
    "                annotation_version='v10nr_clust',\n",
    "                auc_threshold=0.005,\n",
    "                nes_threshold=3.0,\n",
    "                rank_threshold=0.05,\n",
    "                annotation=['Direct_annot', 'Orthology_annot'],\n",
    "                n_cpu=18,\n",
    "                _temp_dir='/users/tpham43/'\n",
    "            )\n",
    "            \n",
    "            print(\"Processing cisTarget results...\")\n",
    "            filtered_data = {\n",
    "                key: [TF.split('_')[0] for TF in values.cistromes['Region_set'].keys()]\n",
    "                for key, values in cistarget_dict.items()\n",
    "            }\n",
    "\n",
    "            output_file = os.path.join(outDir, f\"TF_gene_OT_{i}.csv\")\n",
    "            print(f\"Writing results to {output_file}\")\n",
    "            identify_all_TF_gene_link_candidates(filtered_data).to_csv(output_file)\n",
    "\n",
    "        except Exception as e:\n",
    "            print(f\"Error processing chunk starting at index {i}: {e}\")\n",
    "            continue\n",
    "\n",
    "\n",
    "        \n",
    "        \n",
    "        \n",
    "\n",
    "\n",
    "\n",
    "\n",
    "\n"
   ]
  },
  {
   "cell_type": "code",
   "execution_count": 18,
   "id": "65e80c3b",
   "metadata": {},
   "outputs": [
    {
     "name": "stdout",
     "output_type": "stream",
     "text": [
      "Total keys: 17\n",
      "0\n",
      "Initializing database...\n",
      "2025-03-30 15:12:37,582 cisTarget    INFO     Reading cisTarget database\n",
      "Running cisTarget...\n"
     ]
    },
    {
     "name": "stderr",
     "output_type": "stream",
     "text": [
      "2025-03-30 15:13:26,135\tINFO worker.py:1743 -- Started a local Ray instance. View the dashboard at \u001b[1m\u001b[32m127.0.0.1:8265 \u001b[39m\u001b[22m\n"
     ]
    },
    {
     "name": "stdout",
     "output_type": "stream",
     "text": [
      "\u001b[36m(ctx_internal_ray pid=1292448)\u001b[0m 2025-03-30 15:13:28,851 cisTarget    INFO     Running cisTarget for EMG1 which has 70 regions\n",
      "\u001b[36m(ctx_internal_ray pid=1292437)\u001b[0m 2025-03-30 15:13:28,852 cisTarget    INFO     Running cisTarget for RHOF which has 106 regions\n",
      "\u001b[36m(ctx_internal_ray pid=1292438)\u001b[0m 2025-03-30 15:13:28,850 cisTarget    INFO     Running cisTarget for PML which has 65 regions\n",
      "\u001b[36m(ctx_internal_ray pid=1292449)\u001b[0m 2025-03-30 15:13:40,005 cisTarget    INFO     Annotating motifs for FIZ1\n",
      "\u001b[36m(ctx_internal_ray pid=1292442)\u001b[0m 2025-03-30 15:13:28,852 cisTarget    INFO     Running cisTarget for LAMA4 which has 35 regions\u001b[32m [repeated 14x across cluster] (Ray deduplicates logs by default. Set RAY_DEDUP_LOGS=0 to disable log deduplication, or see https://docs.ray.io/en/master/ray-observability/ray-logging.html#log-deduplication for more options.)\u001b[0m\n",
      "\u001b[36m(ctx_internal_ray pid=1292437)\u001b[0m 2025-03-30 15:13:42,818 cisTarget    INFO     Annotating motifs for RHOF\n",
      "\u001b[36m(ctx_internal_ray pid=1292438)\u001b[0m 2025-03-30 15:13:42,865 cisTarget    INFO     Annotating motifs for PML\n",
      "\u001b[36m(ctx_internal_ray pid=1292449)\u001b[0m 2025-03-30 15:13:50,140 cisTarget    INFO     Getting cistromes for FIZ1\n",
      "\u001b[36m(ctx_internal_ray pid=1292446)\u001b[0m 2025-03-30 15:13:43,378 cisTarget    INFO     Annotating motifs for RBPMS2\u001b[32m [repeated 14x across cluster]\u001b[0m\n",
      "\u001b[36m(ctx_internal_ray pid=1292444)\u001b[0m 2025-03-30 15:13:55,371 cisTarget    INFO     Getting cistromes for TOB1\u001b[32m [repeated 7x across cluster]\u001b[0m\n",
      "\u001b[36m(ctx_internal_ray pid=1292437)\u001b[0m 2025-03-30 15:13:58,827 cisTarget    INFO     Getting cistromes for RHOF\n",
      "\u001b[36m(ctx_internal_ray pid=1292438)\u001b[0m 2025-03-30 15:13:58,817 cisTarget    INFO     Getting cistromes for PML\n",
      "\u001b[36m(ctx_internal_ray pid=1292436)\u001b[0m 2025-03-30 15:13:59,402 cisTarget    INFO     Getting cistromes for ID2\u001b[32m [repeated 7x across cluster]\u001b[0m\n",
      "2025-03-30 15:14:01,098 cisTarget    INFO     Done!\n",
      "Processing cisTarget results...\n",
      "Writing results to ./results/TF_motif/bedfile/TF_gene_OT_0.csv\n"
     ]
    }
   ],
   "source": [
    "import ray\n",
    "ray.shutdown()\n",
    "read_dictionary_in_chunks(region_sets,200,db =db)"
   ]
  },
  {
   "cell_type": "code",
   "execution_count": null,
   "id": "7ff6c4d3",
   "metadata": {},
   "outputs": [],
   "source": []
  },
  {
   "cell_type": "code",
   "execution_count": 20,
   "id": "5ece1180",
   "metadata": {},
   "outputs": [
    {
     "name": "stdout",
     "output_type": "stream",
     "text": [
      "Done\n"
     ]
    }
   ],
   "source": [
    "# Specify the folder path\n",
    "folder_path = outDir\n",
    "\n",
    "# Get a list of all files in the folder\n",
    "all_files = [os.path.join(folder_path, f) for f in os.listdir(folder_path) if os.path.isfile(os.path.join(folder_path, f))]\n",
    "\n",
    "# Filter the list for CSV files\n",
    "csv_files = [f for f in all_files if f.endswith('.csv')]\n",
    "\n",
    "# Read all CSV files into a list of DataFrames\n",
    "dataframes = [pd.read_csv(f,index_col=0) for f in csv_files]\n",
    "\n",
    "# Combine all DataFrames into a single DataFrame\n",
    "candidate_df = pd.concat(dataframes, ignore_index=True)\n",
    "\n",
    "candidate_df = candidate_df.drop_duplicates()\n",
    "rna_adata = sc.read_h5ad(\"./data/kidney_rna_1patient.h5ad\")\n",
    "rna_adata\n",
    "candidate_df = candidate_df[candidate_df['Gene'].isin(rna_adata.var.index.values)]\n",
    "\n",
    "# candidate_df.rename(columns={'TF': 'Source', 'Gene': 'Target'}, inplace=True)\n",
    "\n",
    "candidate_df.to_csv(f\"./results/TF_motif/putative_TF_gene.tsv\",sep = '\\t')\n",
    "\n",
    "print(\"Done\")\n"
   ]
  },
  {
   "cell_type": "code",
   "execution_count": null,
   "id": "9cede8ee",
   "metadata": {},
   "outputs": [],
   "source": []
  }
 ],
 "metadata": {
  "kernelspec": {
   "display_name": "gridot",
   "language": "python",
   "name": "gridot"
  },
  "language_info": {
   "codemirror_mode": {
    "name": "ipython",
    "version": 3
   },
   "file_extension": ".py",
   "mimetype": "text/x-python",
   "name": "python",
   "nbconvert_exporter": "python",
   "pygments_lexer": "ipython3",
   "version": "3.11.5"
  }
 },
 "nbformat": 4,
 "nbformat_minor": 5
}
