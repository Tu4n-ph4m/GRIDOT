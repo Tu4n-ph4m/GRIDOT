{
 "cells": [
  {
   "cell_type": "markdown",
   "metadata": {},
   "source": [
    "\n",
    "# Tutorial: 10x multiome pbmc\n",
    "\n",
    "\n",
    "The data consists of *PBMC from a Healthy Donor - Granulocytes Removed Through Cell Sorting (3k)* which is freely available from 10x Genomics (click [here](https://www.10xgenomics.com/resources/datasets/pbmc-from-a-healthy-donor-granulocytes-removed-through-cell-sorting-3-k-1-standard-2-0-0), some personal information needs to be provided before you can gain access to the data). This is a multi-ome dataset.\n",
    "\n",
    "<div class=\"alert alert-info\">\n",
    "\n",
    "**Note:**\n",
    "\n",
    "In this notebook we will only show the minimal steps needed for running the SCENIC+ analysis. For more information on analysing scRNA-seq data and scATAC-seq data we refer the reader to other tutorials (e.g. [Scanpy](https://scanpy-tutorials.readthedocs.io/en/latest/index.html) and [pycisTopic](https://pycistopic.readthedocs.io/en/latest/) in python or [Seurat](https://satijalab.org/seurat/) and [cisTopic](https://github.com/aertslab/cisTopic) or [Signac](https://satijalab.org/signac/) in R).\n",
    "\n",
    "</div>\n",
    "\n"
   ]
  },
  {
   "cell_type": "markdown",
   "metadata": {},
   "source": [
    "## Set-up environment and download data \n",
    "We will first create a directory to store the data and results"
   ]
  },
  {
   "cell_type": "code",
   "execution_count": 1,
   "metadata": {},
   "outputs": [],
   "source": [
    "#supress warnings\n",
    "import warnings\n",
    "warnings.simplefilter(action='ignore', category=FutureWarning)\n",
    "import sys\n",
    "import os\n",
    "_stderr = sys.stderr                                                         \n",
    "null = open(os.devnull,'wb')"
   ]
  },
  {
   "cell_type": "code",
   "execution_count": 3,
   "metadata": {},
   "outputs": [],
   "source": [
    "import scanpy as sc"
   ]
  },
  {
   "cell_type": "code",
   "execution_count": null,
   "metadata": {},
   "outputs": [],
   "source": [
    "atac_adata = sc.read_h5ad(\"./data/kidney_atac_control1.h5ad\")"
   ]
  },
  {
   "cell_type": "code",
   "execution_count": 10,
   "metadata": {},
   "outputs": [
    {
     "data": {
      "text/plain": [
       "Counter({'Cont3': 8389,\n",
       "         'Cont5': 7609,\n",
       "         'Cont4': 6679,\n",
       "         'PKD1': 6577,\n",
       "         'Cont1': 6024,\n",
       "         'Cont2': 4920,\n",
       "         'PKD5': 3737,\n",
       "         'PKD4': 1723,\n",
       "         'PKD6': 1575,\n",
       "         'PKD3': 1389,\n",
       "         'PKD2': 897,\n",
       "         'PKD7': 746,\n",
       "         'PKD8': 721})"
      ]
     },
     "execution_count": 10,
     "metadata": {},
     "output_type": "execute_result"
    }
   ],
   "source": [
    "from collections import Counter\n",
    "Counter(atac_adata.obs['patient'])"
   ]
  },
  {
   "cell_type": "code",
   "execution_count": 11,
   "metadata": {},
   "outputs": [
    {
     "data": {
      "text/plain": [
       "Counter({'Cont3': 8389,\n",
       "         'Cont5': 7609,\n",
       "         'Cont4': 6679,\n",
       "         'PKD1': 6577,\n",
       "         'Cont1': 6024,\n",
       "         'Cont2': 4920,\n",
       "         'PKD5': 3737,\n",
       "         'PKD4': 1723,\n",
       "         'PKD6': 1575,\n",
       "         'PKD3': 1389,\n",
       "         'PKD2': 897,\n",
       "         'PKD7': 746,\n",
       "         'PKD8': 721})"
      ]
     },
     "execution_count": 11,
     "metadata": {},
     "output_type": "execute_result"
    }
   ],
   "source": [
    "Counter(atac_adata.obs['patient'])"
   ]
  },
  {
   "cell_type": "code",
   "execution_count": 13,
   "metadata": {},
   "outputs": [],
   "source": [
    "import os\n",
    "work_dir = '/users/tpham43/rsingh47/tpham43/GROT/tutorial_kidney/processing/cistopic'\n",
    "import pycisTopic\n",
    "#set some figure parameters for nice display inside jupyternotebooks.\n",
    "%matplotlib inline\n",
    "\n",
    "# threshold = 0.02\n",
    "\n",
    "#make a directory for to store the processed scRNA-seq data.\n",
    "if not os.path.exists(os.path.join(work_dir, f'scATAC')):\n",
    "    os.makedirs(os.path.join(work_dir, f'scATAC'))\n",
    "tmp_dir = '/users/tpham43/scratch/'"
   ]
  },
  {
   "cell_type": "code",
   "execution_count": 13,
   "metadata": {},
   "outputs": [],
   "source": [
    "import scanpy as sc\n",
    "adata = sc.read_h5ad(\"./data/kidney_atac.h5ad\")\n",
    "cell_data = adata.obs\n",
    "cell_data['celltype'] = cell_data['celltype'].astype(str) # set data type of the celltype column to str, otherwise the export_pseudobulk function will complain.\n",
    "# del(adata)"
   ]
  },
  {
   "cell_type": "code",
   "execution_count": 14,
   "metadata": {},
   "outputs": [
    {
     "data": {
      "text/plain": [
       "['PKD5', 'Cont5', 'PKD7', 'Cont2', 'PKD3', ..., 'Cont4', 'PKD1', 'PKD6', 'PKD8', 'PKD4']\n",
       "Length: 13\n",
       "Categories (13, object): ['Cont1', 'Cont2', 'Cont3', 'Cont4', ..., 'PKD5', 'PKD6', 'PKD7', 'PKD8']"
      ]
     },
     "execution_count": 14,
     "metadata": {},
     "output_type": "execute_result"
    }
   ],
   "source": [
    "adata.obs['patient'].unique()"
   ]
  },
  {
   "cell_type": "code",
   "execution_count": 15,
   "metadata": {},
   "outputs": [
    {
     "data": {
      "text/plain": [
       "View of AnnData object with n_obs × n_vars = 1493 × 128008\n",
       "    obs: 'barcode', 'patient', 'disease', 'celltype', 'nCount_peaks', 'nFeature_peaks', 'pct_reads_in_peaks', 'UMAP_1', 'UMAP_2'"
      ]
     },
     "execution_count": 15,
     "metadata": {},
     "output_type": "execute_result"
    }
   ],
   "source": [
    "adata = adata[adata.obs['patient'].isin(['Cont1'])]\n",
    "adata = adata[adata.obs['celltype'].isin(['CNT_PC', 'DCT', 'ENDO'])]\n",
    "adata"
   ]
  },
  {
   "cell_type": "code",
   "execution_count": 16,
   "metadata": {},
   "outputs": [
    {
     "data": {
      "text/plain": [
       "Counter({'CNT_PC': 686, 'DCT': 523, 'ENDO': 284})"
      ]
     },
     "execution_count": 16,
     "metadata": {},
     "output_type": "execute_result"
    }
   ],
   "source": [
    "Counter(adata.obs['celltype'])"
   ]
  },
  {
   "cell_type": "code",
   "execution_count": 17,
   "metadata": {},
   "outputs": [
    {
     "data": {
      "text/plain": [
       "AnnData object with n_obs × n_vars = 1493 × 128008\n",
       "    obs: 'barcode', 'patient', 'disease', 'celltype', 'nCount_peaks', 'nFeature_peaks', 'pct_reads_in_peaks', 'UMAP_1', 'UMAP_2'"
      ]
     },
     "execution_count": 17,
     "metadata": {},
     "output_type": "execute_result"
    }
   ],
   "source": [
    "filtered_adata = adata.copy()\n",
    "filtered_adata"
   ]
  },
  {
   "cell_type": "code",
   "execution_count": 18,
   "metadata": {},
   "outputs": [
    {
     "data": {
      "text/html": [
       "<div>\n",
       "<style scoped>\n",
       "    .dataframe tbody tr th:only-of-type {\n",
       "        vertical-align: middle;\n",
       "    }\n",
       "\n",
       "    .dataframe tbody tr th {\n",
       "        vertical-align: top;\n",
       "    }\n",
       "\n",
       "    .dataframe thead th {\n",
       "        text-align: right;\n",
       "    }\n",
       "</style>\n",
       "<table border=\"1\" class=\"dataframe\">\n",
       "  <thead>\n",
       "    <tr style=\"text-align: right;\">\n",
       "      <th></th>\n",
       "    </tr>\n",
       "  </thead>\n",
       "  <tbody>\n",
       "    <tr>\n",
       "      <th>chr1-9979-10393</th>\n",
       "    </tr>\n",
       "    <tr>\n",
       "      <th>chr1-180780-181617</th>\n",
       "    </tr>\n",
       "    <tr>\n",
       "      <th>chr1-191298-191736</th>\n",
       "    </tr>\n",
       "    <tr>\n",
       "      <th>chr1-267800-268214</th>\n",
       "    </tr>\n",
       "    <tr>\n",
       "      <th>chr1-586021-586360</th>\n",
       "    </tr>\n",
       "    <tr>\n",
       "      <th>...</th>\n",
       "    </tr>\n",
       "    <tr>\n",
       "      <th>chrY-56867683-56867998</th>\n",
       "    </tr>\n",
       "    <tr>\n",
       "      <th>chrY-56868801-56872356</th>\n",
       "    </tr>\n",
       "    <tr>\n",
       "      <th>chrY-56872868-56874644</th>\n",
       "    </tr>\n",
       "    <tr>\n",
       "      <th>chrY-56879678-56880063</th>\n",
       "    </tr>\n",
       "    <tr>\n",
       "      <th>chrY-56881546-56881794</th>\n",
       "    </tr>\n",
       "  </tbody>\n",
       "</table>\n",
       "<p>128008 rows × 0 columns</p>\n",
       "</div>"
      ],
      "text/plain": [
       "Empty DataFrame\n",
       "Columns: []\n",
       "Index: [chr1-9979-10393, chr1-180780-181617, chr1-191298-191736, chr1-267800-268214, chr1-586021-586360, chr1-629086-630223, chr1-631196-632949, chr1-633691-634587, chr1-778219-779393, chr1-826772-827922, chr1-835497-835885, chr1-869633-870288, chr1-877098-877618, chr1-903784-907218, chr1-907922-908432, chr1-910008-911494, chr1-912651-914080, chr1-916188-917382, chr1-919640-921686, chr1-923465-926141, chr1-930589-931193, chr1-933025-933513, chr1-935642-936080, chr1-937954-946262, chr1-958719-961645, chr1-963332-963351, chr1-965931-968475, chr1-973250-973436, chr1-975609-976740, chr1-978254-978967, chr1-980266-982993, chr1-983918-984571, chr1-995786-995887, chr1-997015-1002285, chr1-1004660-1007007, chr1-1013006-1015768, chr1-1018402-1028213, chr1-1031562-1034659, chr1-1038188-1038340, chr1-1039958-1041358, chr1-1053846-1054085, chr1-1058204-1060232, chr1-1061763-1064757, chr1-1065550-1066211, chr1-1066732-1070856, chr1-1072391-1075406, chr1-1079278-1081369, chr1-1115689-1118367, chr1-1121748-1122752, chr1-1124678-1126376, chr1-1127560-1131361, chr1-1131890-1133985, chr1-1135283-1137995, chr1-1143689-1145435, chr1-1150063-1150546, chr1-1155707-1172166, chr1-1173416-1174289, chr1-1176560-1176564, chr1-1200745-1201869, chr1-1205957-1206827, chr1-1207961-1208744, chr1-1212831-1213938, chr1-1216001-1216142, chr1-1218025-1218313, chr1-1230625-1233369, chr1-1236190-1236463, chr1-1237166-1238561, chr1-1239710-1239766, chr1-1240918-1241186, chr1-1243844-1244691, chr1-1246544-1247358, chr1-1250234-1250538, chr1-1264925-1265876, chr1-1270686-1271363, chr1-1272203-1275252, chr1-1278670-1279093, chr1-1281091-1282611, chr1-1283814-1284001, chr1-1285746-1286145, chr1-1290117-1292784, chr1-1299143-1299188, chr1-1300057-1300335, chr1-1302258-1302286, chr1-1303112-1312158, chr1-1312900-1313746, chr1-1318187-1318673, chr1-1324234-1326166, chr1-1327949-1329372, chr1-1330167-1335640, chr1-1337668-1338128, chr1-1344040-1350136, chr1-1351521-1354236, chr1-1354754-1355852, chr1-1356881-1359141, chr1-1359685-1360962, chr1-1362009-1362337, chr1-1371493-1372556, chr1-1373366-1373499, chr1-1374162-1376945, chr1-1383911-1384260, ...]\n",
       "\n",
       "[128008 rows x 0 columns]"
      ]
     },
     "execution_count": 18,
     "metadata": {},
     "output_type": "execute_result"
    }
   ],
   "source": [
    "filtered_adata.var"
   ]
  },
  {
   "cell_type": "markdown",
   "metadata": {},
   "source": [
    "Next, we will generate the pseudobulk profiles. \n",
    "\n",
    "This will generate two sets of files:\n",
    "\n",
    "1. pseudobulk_bed_files: pseudobulk profiles stored in [bed format](https://genome.ucsc.edu/FAQ/FAQformat.html).\n",
    "2. pseudobulk_bw_files: pseudobulk profiles stored in [BigWig format](https://genome.ucsc.edu/goldenpath/help/bigWig.html).\n",
    "\n",
    "The BigWig files are useful for visualization in [IGV](https://software.broadinstitute.org/software/igv/) or [UCSC genome browser](https://genome.ucsc.edu/).\n"
   ]
  },
  {
   "cell_type": "code",
   "execution_count": 19,
   "metadata": {},
   "outputs": [],
   "source": [
    "# Get chromosome sizes (for hg38 here)\n",
    "import pyranges as pr\n",
    "import requests\n",
    "import pandas as pd\n",
    "target_url='http://hgdownload.cse.ucsc.edu/goldenPath/hg38/bigZips/hg38.chrom.sizes'\n",
    "chromsizes=pd.read_csv(target_url, sep='\\t', header=None)\n",
    "chromsizes.columns=['Chromosome', 'End']\n",
    "chromsizes['Start']=[0]*chromsizes.shape[0]\n",
    "chromsizes=chromsizes.loc[:,['Chromosome', 'Start', 'End']]\n",
    "# Exceptionally in this case, to agree with CellRangerARC annotations\n",
    "chromsizes['Chromosome'] = [chromsizes['Chromosome'][x].replace('v', '.') for x in range(len(chromsizes['Chromosome']))]\n",
    "chromsizes['Chromosome'] = [chromsizes['Chromosome'][x].split('_')[1] if len(chromsizes['Chromosome'][x].split('_')) > 1 else chromsizes['Chromosome'][x] for x in range(len(chromsizes['Chromosome']))]\n",
    "chromsizes=pr.PyRanges(chromsizes)"
   ]
  },
  {
   "cell_type": "markdown",
   "metadata": {},
   "source": [
    "### Creating a cisTopic object and topic modeling\n",
    "\n",
    "Now that we have good quality barcodes we will generate a binary count matrix of ATAC-seq fragments over consensus peaks. This matrix, along with metadata, will be stored in a cisTopic object and be used for topic modeling.\n",
    "\n",
    "We will start by reading cell metadata from the scRNA-seq side of the analysis. For SCENIC+ we will only keep cells which passed quality metrics in both assays.\n",
    "\n",
    "<div class=\"alert alert-info\">\n",
    "\n",
    "**Note:**\n",
    "\n",
    "For independent scATAC-seq analysis you probably want to keep all cells (not only the cells passing the scRNA-seq filters). \n",
    "</div>"
   ]
  },
  {
   "cell_type": "markdown",
   "metadata": {},
   "source": [
    "Load scATAC-seq data"
   ]
  },
  {
   "cell_type": "code",
   "execution_count": 20,
   "metadata": {},
   "outputs": [
    {
     "data": {
      "text/plain": [
       "AnnData object with n_obs × n_vars = 1493 × 128008\n",
       "    obs: 'barcode', 'patient', 'disease', 'celltype', 'nCount_peaks', 'nFeature_peaks', 'pct_reads_in_peaks', 'UMAP_1', 'UMAP_2'"
      ]
     },
     "execution_count": 20,
     "metadata": {},
     "output_type": "execute_result"
    }
   ],
   "source": [
    "# # Load row (cell) names and column (gene) names\n",
    "# from scipy.sparse import coo_matrix\n",
    "# def transform_format(coord):\n",
    "#     return coord.replace('-', ':', 1)\n",
    "# peaks = pd.read_csv('./data/row_names.txt', header=None, names=[\"peaks\"])\n",
    "# cells = pd.read_csv('./data/col_names.txt', header=None, names=[\"cell_id\"])\n",
    "# peaks['peaks'] = peaks['peaks'].apply(transform_format)\n",
    "# cells.index =cells.cell_id.tolist()\n",
    "# peaks.index =peaks.peaks.tolist()\n",
    "# meta_data = cells.join(cell_data)\n",
    "# Create an AnnData object\n",
    "atac_adata = filtered_adata\n",
    "atac_adata"
   ]
  },
  {
   "cell_type": "code",
   "execution_count": 21,
   "metadata": {},
   "outputs": [],
   "source": [
    "# atac_tsv = pd.read_csv(\"../../GROT/tutorial_snare/data/GSE126074_CellLineMixture_SNAREseq_chromatin_counts.tsv\", sep ='\\t')\n",
    "\n",
    "# atac_adata = filtered_adata.copy()\n",
    "atac_adata.obs.columns = atac_adata.obs.columns.astype(str)\n",
    "atac_adata.obs.index = atac_adata.obs.index.astype(str)\n",
    "# atac_adata.obs['orig.ident'] = atac_tsv.columns.astype(str)\n",
    "# del atac_adata.obs['0'] \n",
    "# del atac_adata.var[0]\n",
    "\n",
    "# atac_adata.obs = pd.merge(atac_adata.obs, label, on='orig.ident', how='inner')  # You can also use 'left', 'right', or 'outer' joins\n",
    "# atac_adata.obs['celltype'] = atac_adata.obs['author_cell_type']\n",
    "\n",
    "atac_adata.var['peaks']=atac_adata.var.index.tolist()\n",
    "\n",
    "atac_adata.var[['chr_no', 'start','end']] = atac_adata.var['peaks'].str.split('-|:', expand=True)\n",
    "atac_adata.var['start'] = atac_adata.var['start'].astype(int)\n",
    "atac_adata.var['end'] = atac_adata.var['end'].astype(int)\n",
    "atac_adata.var['Chromosome'] = atac_adata.var['chr_no']\n",
    "atac_adata.var['chr_no'] = atac_adata.var['chr_no'].str.replace('chr', '')\n",
    "atac_adata.var['Start'] = atac_adata.var['start']\n",
    "atac_adata.var['End'] = atac_adata.var['end']"
   ]
  },
  {
   "cell_type": "code",
   "execution_count": 22,
   "metadata": {},
   "outputs": [
    {
     "data": {
      "text/html": [
       "<div>\n",
       "<style scoped>\n",
       "    .dataframe tbody tr th:only-of-type {\n",
       "        vertical-align: middle;\n",
       "    }\n",
       "\n",
       "    .dataframe tbody tr th {\n",
       "        vertical-align: top;\n",
       "    }\n",
       "\n",
       "    .dataframe thead th {\n",
       "        text-align: right;\n",
       "    }\n",
       "</style>\n",
       "<table border=\"1\" class=\"dataframe\">\n",
       "  <thead>\n",
       "    <tr style=\"text-align: right;\">\n",
       "      <th></th>\n",
       "      <th>peaks</th>\n",
       "      <th>chr_no</th>\n",
       "      <th>start</th>\n",
       "      <th>end</th>\n",
       "      <th>Chromosome</th>\n",
       "      <th>Start</th>\n",
       "      <th>End</th>\n",
       "    </tr>\n",
       "  </thead>\n",
       "  <tbody>\n",
       "    <tr>\n",
       "      <th>chr1:9979-10393</th>\n",
       "      <td>chr1:9979-10393</td>\n",
       "      <td>1</td>\n",
       "      <td>9979</td>\n",
       "      <td>10393</td>\n",
       "      <td>chr1</td>\n",
       "      <td>9979</td>\n",
       "      <td>10393</td>\n",
       "    </tr>\n",
       "    <tr>\n",
       "      <th>chr1:180780-181617</th>\n",
       "      <td>chr1:180780-181617</td>\n",
       "      <td>1</td>\n",
       "      <td>180780</td>\n",
       "      <td>181617</td>\n",
       "      <td>chr1</td>\n",
       "      <td>180780</td>\n",
       "      <td>181617</td>\n",
       "    </tr>\n",
       "    <tr>\n",
       "      <th>chr1:191298-191736</th>\n",
       "      <td>chr1:191298-191736</td>\n",
       "      <td>1</td>\n",
       "      <td>191298</td>\n",
       "      <td>191736</td>\n",
       "      <td>chr1</td>\n",
       "      <td>191298</td>\n",
       "      <td>191736</td>\n",
       "    </tr>\n",
       "    <tr>\n",
       "      <th>chr1:267800-268214</th>\n",
       "      <td>chr1:267800-268214</td>\n",
       "      <td>1</td>\n",
       "      <td>267800</td>\n",
       "      <td>268214</td>\n",
       "      <td>chr1</td>\n",
       "      <td>267800</td>\n",
       "      <td>268214</td>\n",
       "    </tr>\n",
       "    <tr>\n",
       "      <th>chr1:586021-586360</th>\n",
       "      <td>chr1:586021-586360</td>\n",
       "      <td>1</td>\n",
       "      <td>586021</td>\n",
       "      <td>586360</td>\n",
       "      <td>chr1</td>\n",
       "      <td>586021</td>\n",
       "      <td>586360</td>\n",
       "    </tr>\n",
       "    <tr>\n",
       "      <th>...</th>\n",
       "      <td>...</td>\n",
       "      <td>...</td>\n",
       "      <td>...</td>\n",
       "      <td>...</td>\n",
       "      <td>...</td>\n",
       "      <td>...</td>\n",
       "      <td>...</td>\n",
       "    </tr>\n",
       "    <tr>\n",
       "      <th>chrY:56867683-56867998</th>\n",
       "      <td>chrY:56867683-56867998</td>\n",
       "      <td>Y</td>\n",
       "      <td>56867683</td>\n",
       "      <td>56867998</td>\n",
       "      <td>chrY</td>\n",
       "      <td>56867683</td>\n",
       "      <td>56867998</td>\n",
       "    </tr>\n",
       "    <tr>\n",
       "      <th>chrY:56868801-56872356</th>\n",
       "      <td>chrY:56868801-56872356</td>\n",
       "      <td>Y</td>\n",
       "      <td>56868801</td>\n",
       "      <td>56872356</td>\n",
       "      <td>chrY</td>\n",
       "      <td>56868801</td>\n",
       "      <td>56872356</td>\n",
       "    </tr>\n",
       "    <tr>\n",
       "      <th>chrY:56872868-56874644</th>\n",
       "      <td>chrY:56872868-56874644</td>\n",
       "      <td>Y</td>\n",
       "      <td>56872868</td>\n",
       "      <td>56874644</td>\n",
       "      <td>chrY</td>\n",
       "      <td>56872868</td>\n",
       "      <td>56874644</td>\n",
       "    </tr>\n",
       "    <tr>\n",
       "      <th>chrY:56879678-56880063</th>\n",
       "      <td>chrY:56879678-56880063</td>\n",
       "      <td>Y</td>\n",
       "      <td>56879678</td>\n",
       "      <td>56880063</td>\n",
       "      <td>chrY</td>\n",
       "      <td>56879678</td>\n",
       "      <td>56880063</td>\n",
       "    </tr>\n",
       "    <tr>\n",
       "      <th>chrY:56881546-56881794</th>\n",
       "      <td>chrY:56881546-56881794</td>\n",
       "      <td>Y</td>\n",
       "      <td>56881546</td>\n",
       "      <td>56881794</td>\n",
       "      <td>chrY</td>\n",
       "      <td>56881546</td>\n",
       "      <td>56881794</td>\n",
       "    </tr>\n",
       "  </tbody>\n",
       "</table>\n",
       "<p>128008 rows × 7 columns</p>\n",
       "</div>"
      ],
      "text/plain": [
       "                                         peaks chr_no     start       end  \\\n",
       "chr1:9979-10393                chr1:9979-10393      1      9979     10393   \n",
       "chr1:180780-181617          chr1:180780-181617      1    180780    181617   \n",
       "chr1:191298-191736          chr1:191298-191736      1    191298    191736   \n",
       "chr1:267800-268214          chr1:267800-268214      1    267800    268214   \n",
       "chr1:586021-586360          chr1:586021-586360      1    586021    586360   \n",
       "...                                        ...    ...       ...       ...   \n",
       "chrY:56867683-56867998  chrY:56867683-56867998      Y  56867683  56867998   \n",
       "chrY:56868801-56872356  chrY:56868801-56872356      Y  56868801  56872356   \n",
       "chrY:56872868-56874644  chrY:56872868-56874644      Y  56872868  56874644   \n",
       "chrY:56879678-56880063  chrY:56879678-56880063      Y  56879678  56880063   \n",
       "chrY:56881546-56881794  chrY:56881546-56881794      Y  56881546  56881794   \n",
       "\n",
       "                       Chromosome     Start       End  \n",
       "chr1:9979-10393              chr1      9979     10393  \n",
       "chr1:180780-181617           chr1    180780    181617  \n",
       "chr1:191298-191736           chr1    191298    191736  \n",
       "chr1:267800-268214           chr1    267800    268214  \n",
       "chr1:586021-586360           chr1    586021    586360  \n",
       "...                           ...       ...       ...  \n",
       "chrY:56867683-56867998       chrY  56867683  56867998  \n",
       "chrY:56868801-56872356       chrY  56868801  56872356  \n",
       "chrY:56872868-56874644       chrY  56872868  56874644  \n",
       "chrY:56879678-56880063       chrY  56879678  56880063  \n",
       "chrY:56881546-56881794       chrY  56881546  56881794  \n",
       "\n",
       "[128008 rows x 7 columns]"
      ]
     },
     "execution_count": 22,
     "metadata": {},
     "output_type": "execute_result"
    }
   ],
   "source": [
    "atac_adata.var['peaks'] = atac_adata.var['Chromosome'].astype(str) + \":\" + atac_adata.var['start'].astype(str) + \"-\" + atac_adata.var['end'].astype(str)\n",
    "atac_adata.var.index = atac_adata.var['peaks'].tolist()\n",
    "\n",
    "atac_adata.var"
   ]
  },
  {
   "cell_type": "code",
   "execution_count": 23,
   "metadata": {},
   "outputs": [],
   "source": [
    "atac_adata.write_h5ad(\"./data/atac_kidney_control1_3cells.h5ad\")"
   ]
  },
  {
   "cell_type": "code",
   "execution_count": null,
   "metadata": {},
   "outputs": [],
   "source": []
  },
  {
   "cell_type": "code",
   "execution_count": 24,
   "metadata": {},
   "outputs": [],
   "source": [
    "# # Cell types to keep\n",
    "# keep_cell_types = ['Oligodendrocytes', 'Microglia', 'Astrocytes']\n",
    "\n",
    "# # Filter `atac_adata` (for example)\n",
    "# atac_adata = atac_adata[atac_adata.obs['author_cell_type'].isin(keep_cell_types)]\n",
    "# atac_adata = atac_adata[atac_adata.obs['age_group'] == 'adulthood'].copy()\n",
    "\n",
    "# atac_adata"
   ]
  },
  {
   "cell_type": "code",
   "execution_count": 25,
   "metadata": {},
   "outputs": [],
   "source": [
    "# atac_adata.write_h5ad(\"./data/filtered_atac_adata_3celltypes.h5ad\")"
   ]
  },
  {
   "cell_type": "code",
   "execution_count": 26,
   "metadata": {
    "scrolled": false
   },
   "outputs": [
    {
     "data": {
      "text/plain": [
       "AnnData object with n_obs × n_vars = 1493 × 116859\n",
       "    obs: 'barcode', 'patient', 'disease', 'celltype', 'nCount_peaks', 'nFeature_peaks', 'pct_reads_in_peaks', 'UMAP_1', 'UMAP_2', 'n_genes'\n",
       "    var: 'peaks', 'chr_no', 'start', 'end', 'Chromosome', 'Start', 'End', 'n_cells'"
      ]
     },
     "execution_count": 26,
     "metadata": {},
     "output_type": "execute_result"
    }
   ],
   "source": [
    "# atac_adata.obs.index = atac_tsv.columns.astype(str)\n",
    "sc.pp.filter_cells(atac_adata, min_genes=200) #filter out cells that express less than 200 genes and genes expressed in less than 3 cells\n",
    "sc.pp.filter_genes(atac_adata, min_cells=3)\n",
    "atac_adata"
   ]
  },
  {
   "cell_type": "code",
   "execution_count": 28,
   "metadata": {},
   "outputs": [
    {
     "name": "stdout",
     "output_type": "stream",
     "text": [
      "2025-01-23 12:51:44,277 cisTopic     INFO     Converting fragment matrix to sparse matrix\n",
      "2025-01-23 12:51:45,108 cisTopic     INFO     Removing blacklisted regions\n",
      "2025-01-23 12:51:45,410 cisTopic     INFO     Creating CistopicObject\n",
      "2025-01-23 12:51:45,606 cisTopic     INFO     Done!\n"
     ]
    }
   ],
   "source": [
    "from pycisTopic.cistopic_class import *\n",
    "count_matrix = pd.DataFrame(atac_adata.X.todense(), index=atac_adata.obs.index.to_list(), columns=atac_adata.var.index.to_list()).transpose()\n",
    "path_to_blacklist='/oscar/data/koconno5/tpham43/pycisTopic/blacklist/hg38-blacklist.v2.bed'\n",
    "cistopic_obj = create_cistopic_object(fragment_matrix=count_matrix,path_to_blacklist = path_to_blacklist)"
   ]
  },
  {
   "cell_type": "code",
   "execution_count": 29,
   "metadata": {},
   "outputs": [],
   "source": [
    "import ray\n",
    "ray.shutdown()"
   ]
  },
  {
   "cell_type": "code",
   "execution_count": 30,
   "metadata": {
    "scrolled": true
   },
   "outputs": [
    {
     "name": "stderr",
     "output_type": "stream",
     "text": [
      "2025-01-23 12:51:56,542\tINFO worker.py:1743 -- Started a local Ray instance. View the dashboard at \u001b[1m\u001b[32m127.0.0.1:8265 \u001b[39m\u001b[22m\n"
     ]
    },
    {
     "name": "stdout",
     "output_type": "stream",
     "text": [
      "\u001b[36m(run_cgs_model pid=2666374)\u001b[0m 2025-01-23 12:52:01,044 cisTopic     INFO     Running model with 50 topics\n",
      "\u001b[36m(run_cgs_model pid=2666372)\u001b[0m 2025-01-23 12:56:41,155 cisTopic     INFO     Model with 5 topics done!\n",
      "\u001b[36m(run_cgs_model pid=2666372)\u001b[0m 2025-01-23 12:52:01,044 cisTopic     INFO     Running model with 5 topics\n"
     ]
    }
   ],
   "source": [
    "import pickle\n",
    "# cistopic_obj = pickle.load(open(os.path.join(work_dir, 'scATAC_pseudo/cistopic_obj.pkl'), 'rb'))\n",
    "from pycisTopic.cistopic_class import *\n",
    "models=run_cgs_models(cistopic_obj,\n",
    "                    n_topics=[5,50],\n",
    "                    n_cpu=20,\n",
    "                    n_iter=500,\n",
    "                    random_state=555,\n",
    "                    alpha=50,\n",
    "                    alpha_by_topic=True,\n",
    "                    eta=0.1,\n",
    "                    eta_by_topic=False,\n",
    "                    save_path=None,\n",
    "                    _temp_dir = os.path.join(tmp_dir + 'ray_spill'))"
   ]
  },
  {
   "cell_type": "markdown",
   "metadata": {},
   "source": [
    "Save results"
   ]
  },
  {
   "cell_type": "code",
   "execution_count": 31,
   "metadata": {},
   "outputs": [
    {
     "data": {
      "text/plain": [
       "'/users/tpham43/rsingh47/tpham43/GROT/tutorial_kidney/processing/cistopic'"
      ]
     },
     "execution_count": 31,
     "metadata": {},
     "output_type": "execute_result"
    }
   ],
   "source": [
    "work_dir"
   ]
  },
  {
   "cell_type": "code",
   "execution_count": 32,
   "metadata": {},
   "outputs": [],
   "source": [
    "if not os.path.exists(os.path.join(work_dir, f'scATAC/models')):\n",
    "    os.makedirs(os.path.join(work_dir, f'scATAC/models'))\n",
    "\n",
    "pickle.dump(models,\n",
    "            open(os.path.join(work_dir, f'scATAC/models/10x_pbmc_models_500_iter_LDA.pkl'), 'wb'))"
   ]
  },
  {
   "cell_type": "markdown",
   "metadata": {},
   "source": [
    "Analyze models.\n",
    "\n",
    "We will make use of four quality metrics to select the model with the optimal amount of topics:\n",
    "1. [Arun *et al.* 2010](http://link.springer.com/10.1007/978-3-642-13657-3_43)\n",
    "2. [Cao & Juan *et al.* 2009](https://linkinghub.elsevier.com/retrieve/pii/S092523120800372X)\n",
    "3. [Mimno *et al.* 2011](http://dirichlet.net/pdf/mimno11optimizing.pdf)\n",
    "4. Log likelihood\n",
    "\n",
    "For more information on these metrics see publications (linked above) and the [read the docs](https://pycistopic.readthedocs.io/en/latest/) page of pycisTopic."
   ]
  },
  {
   "cell_type": "code",
   "execution_count": 34,
   "metadata": {},
   "outputs": [
    {
     "data": {
      "image/png": "[encoded data removed]",
      "text/plain": [
       "<Figure size 640x480 with 1 Axes>"
      ]
     },
     "metadata": {},
     "output_type": "display_data"
    }
   ],
   "source": [
    "models = pickle.load(open(os.path.join(work_dir, f'scATAC/models/10x_pbmc_models_500_iter_LDA.pkl'), 'rb'))\n",
    "# cistopic_obj = pickle.load(open(os.path.join(work_dir, 'scATAC_pseudo/cistopic_obj.pkl'), 'rb'))\n",
    "from pycisTopic.lda_models import *\n",
    "model = evaluate_models(models,\n",
    "                       select_model=50, \n",
    "                       return_model=True, \n",
    "                       metrics=['Arun_2010','Cao_Juan_2009', 'Minmo_2011', 'loglikelihood'],\n",
    "                       plot_metrics=False)"
   ]
  },
  {
   "cell_type": "code",
   "execution_count": 35,
   "metadata": {},
   "outputs": [
    {
     "data": {
      "text/plain": [
       "<pycisTopic.lda_models.CistopicLDAModel at 0x7faece668400>"
      ]
     },
     "execution_count": 35,
     "metadata": {},
     "output_type": "execute_result"
    }
   ],
   "source": [
    "cistopic_obj.add_LDA_model(model)\n",
    "\n",
    "cistopic_obj.selected_model"
   ]
  },
  {
   "cell_type": "code",
   "execution_count": 36,
   "metadata": {},
   "outputs": [],
   "source": [
    "atac_adata.obsm['X_lda'] = cistopic_obj.selected_model.cell_topic.to_numpy().T"
   ]
  },
  {
   "cell_type": "code",
   "execution_count": 37,
   "metadata": {},
   "outputs": [],
   "source": [
    "atac_adata.write_h5ad(\"./data/atac_kidney_control1_lda_3celltypes.h5ad\")"
   ]
  },
  {
   "cell_type": "markdown",
   "metadata": {},
   "source": [
    "The metrics seem to stabelise with a model using 16 topics, so let's choose that model. "
   ]
  },
  {
   "cell_type": "code",
   "execution_count": 38,
   "metadata": {},
   "outputs": [],
   "source": [
    "pickle.dump(cistopic_obj,\n",
    "            open(os.path.join(work_dir, f'scATAC/cistopic_obj.pkl'), 'wb'))"
   ]
  },
  {
   "cell_type": "code",
   "execution_count": 39,
   "metadata": {},
   "outputs": [],
   "source": [
    "cistopic_obj.add_cell_data(atac_adata.obs)"
   ]
  },
  {
   "cell_type": "code",
   "execution_count": 16,
   "metadata": {},
   "outputs": [
    {
     "data": {
      "text/plain": [
       "<pycisTopic.cistopic_class.CistopicObject at 0x7f2c5fbe20a0>"
      ]
     },
     "execution_count": 16,
     "metadata": {},
     "output_type": "execute_result"
    }
   ],
   "source": [
    "import dill\n",
    "cistopic_obj = dill.load(open(os.path.join(work_dir, f'scATAC/cistopic_obj.pkl'), 'rb'))\n",
    "cistopic_obj"
   ]
  },
  {
   "cell_type": "code",
   "execution_count": 32,
   "metadata": {},
   "outputs": [],
   "source": [
    "# cistopic_obj.add_cell_data(atac_adata.obs)"
   ]
  },
  {
   "cell_type": "code",
   "execution_count": 17,
   "metadata": {},
   "outputs": [
    {
     "data": {
      "text/html": [
       "<div>\n",
       "<style scoped>\n",
       "    .dataframe tbody tr th:only-of-type {\n",
       "        vertical-align: middle;\n",
       "    }\n",
       "\n",
       "    .dataframe tbody tr th {\n",
       "        vertical-align: top;\n",
       "    }\n",
       "\n",
       "    .dataframe thead th {\n",
       "        text-align: right;\n",
       "    }\n",
       "</style>\n",
       "<table border=\"1\" class=\"dataframe\">\n",
       "  <thead>\n",
       "    <tr style=\"text-align: right;\">\n",
       "      <th></th>\n",
       "      <th>cisTopic_nr_frag</th>\n",
       "      <th>cisTopic_log_nr_frag</th>\n",
       "      <th>cisTopic_nr_acc</th>\n",
       "      <th>cisTopic_log_nr_acc</th>\n",
       "      <th>sample_id</th>\n",
       "      <th>barcode</th>\n",
       "      <th>patient</th>\n",
       "      <th>disease</th>\n",
       "      <th>celltype</th>\n",
       "      <th>nCount_peaks</th>\n",
       "      <th>nFeature_peaks</th>\n",
       "      <th>pct_reads_in_peaks</th>\n",
       "      <th>UMAP_1</th>\n",
       "      <th>UMAP_2</th>\n",
       "      <th>n_genes</th>\n",
       "    </tr>\n",
       "  </thead>\n",
       "  <tbody>\n",
       "    <tr>\n",
       "      <th>AAACGAAAGAGTGGAA-9___cisTopic</th>\n",
       "      <td>2154</td>\n",
       "      <td>3.333246</td>\n",
       "      <td>1062</td>\n",
       "      <td>3.026125</td>\n",
       "      <td>cisTopic</td>\n",
       "      <td>AAACGAAAGAGTGGAA-9</td>\n",
       "      <td>Cont1</td>\n",
       "      <td>Cont</td>\n",
       "      <td>ENDO</td>\n",
       "      <td>2170</td>\n",
       "      <td>1071</td>\n",
       "      <td>56.108597</td>\n",
       "      <td>-5.189037</td>\n",
       "      <td>12.198000</td>\n",
       "      <td>1071</td>\n",
       "    </tr>\n",
       "    <tr>\n",
       "      <th>AAACGAATCCTAGAGT-9___cisTopic</th>\n",
       "      <td>2706</td>\n",
       "      <td>3.432328</td>\n",
       "      <td>1198</td>\n",
       "      <td>3.078457</td>\n",
       "      <td>cisTopic</td>\n",
       "      <td>AAACGAATCCTAGAGT-9</td>\n",
       "      <td>Cont1</td>\n",
       "      <td>Cont</td>\n",
       "      <td>ENDO</td>\n",
       "      <td>2725</td>\n",
       "      <td>1208</td>\n",
       "      <td>32.089723</td>\n",
       "      <td>-3.146949</td>\n",
       "      <td>11.339225</td>\n",
       "      <td>1208</td>\n",
       "    </tr>\n",
       "    <tr>\n",
       "      <th>AAACGAATCGTAGCGC-9___cisTopic</th>\n",
       "      <td>14186</td>\n",
       "      <td>4.15186</td>\n",
       "      <td>5910</td>\n",
       "      <td>3.771587</td>\n",
       "      <td>cisTopic</td>\n",
       "      <td>AAACGAATCGTAGCGC-9</td>\n",
       "      <td>Cont1</td>\n",
       "      <td>Cont</td>\n",
       "      <td>DCT</td>\n",
       "      <td>14290</td>\n",
       "      <td>5949</td>\n",
       "      <td>39.385151</td>\n",
       "      <td>3.811844</td>\n",
       "      <td>-8.781241</td>\n",
       "      <td>5949</td>\n",
       "    </tr>\n",
       "    <tr>\n",
       "      <th>AAACTCGTCCCGCAAG-9___cisTopic</th>\n",
       "      <td>8641</td>\n",
       "      <td>3.936564</td>\n",
       "      <td>3913</td>\n",
       "      <td>3.59251</td>\n",
       "      <td>cisTopic</td>\n",
       "      <td>AAACTCGTCCCGCAAG-9</td>\n",
       "      <td>Cont1</td>\n",
       "      <td>Cont</td>\n",
       "      <td>CNT_PC</td>\n",
       "      <td>8709</td>\n",
       "      <td>3943</td>\n",
       "      <td>36.837855</td>\n",
       "      <td>4.660756</td>\n",
       "      <td>-4.110564</td>\n",
       "      <td>3943</td>\n",
       "    </tr>\n",
       "    <tr>\n",
       "      <th>AAACTCGTCGTTCCGT-9___cisTopic</th>\n",
       "      <td>3292</td>\n",
       "      <td>3.51746</td>\n",
       "      <td>1523</td>\n",
       "      <td>3.1827</td>\n",
       "      <td>cisTopic</td>\n",
       "      <td>AAACTCGTCGTTCCGT-9</td>\n",
       "      <td>Cont1</td>\n",
       "      <td>Cont</td>\n",
       "      <td>ENDO</td>\n",
       "      <td>3311</td>\n",
       "      <td>1533</td>\n",
       "      <td>49.955687</td>\n",
       "      <td>-4.636066</td>\n",
       "      <td>11.613834</td>\n",
       "      <td>1533</td>\n",
       "    </tr>\n",
       "    <tr>\n",
       "      <th>...</th>\n",
       "      <td>...</td>\n",
       "      <td>...</td>\n",
       "      <td>...</td>\n",
       "      <td>...</td>\n",
       "      <td>...</td>\n",
       "      <td>...</td>\n",
       "      <td>...</td>\n",
       "      <td>...</td>\n",
       "      <td>...</td>\n",
       "      <td>...</td>\n",
       "      <td>...</td>\n",
       "      <td>...</td>\n",
       "      <td>...</td>\n",
       "      <td>...</td>\n",
       "      <td>...</td>\n",
       "    </tr>\n",
       "    <tr>\n",
       "      <th>TTTGGTTCATGGCCGT-9___cisTopic</th>\n",
       "      <td>5295</td>\n",
       "      <td>3.723866</td>\n",
       "      <td>2494</td>\n",
       "      <td>3.396896</td>\n",
       "      <td>cisTopic</td>\n",
       "      <td>TTTGGTTCATGGCCGT-9</td>\n",
       "      <td>Cont1</td>\n",
       "      <td>Cont</td>\n",
       "      <td>CNT_PC</td>\n",
       "      <td>5335</td>\n",
       "      <td>2513</td>\n",
       "      <td>58.038147</td>\n",
       "      <td>5.687326</td>\n",
       "      <td>-2.352779</td>\n",
       "      <td>2513</td>\n",
       "    </tr>\n",
       "    <tr>\n",
       "      <th>TTTGGTTGTCCATTGA-9___cisTopic</th>\n",
       "      <td>9355</td>\n",
       "      <td>3.971044</td>\n",
       "      <td>4306</td>\n",
       "      <td>3.634074</td>\n",
       "      <td>cisTopic</td>\n",
       "      <td>TTTGGTTGTCCATTGA-9</td>\n",
       "      <td>Cont1</td>\n",
       "      <td>Cont</td>\n",
       "      <td>CNT_PC</td>\n",
       "      <td>9414</td>\n",
       "      <td>4332</td>\n",
       "      <td>62.787393</td>\n",
       "      <td>4.999651</td>\n",
       "      <td>-4.123445</td>\n",
       "      <td>4332</td>\n",
       "    </tr>\n",
       "    <tr>\n",
       "      <th>TTTGGTTTCCAGAATC-9___cisTopic</th>\n",
       "      <td>11137</td>\n",
       "      <td>4.046768</td>\n",
       "      <td>5099</td>\n",
       "      <td>3.707485</td>\n",
       "      <td>cisTopic</td>\n",
       "      <td>TTTGGTTTCCAGAATC-9</td>\n",
       "      <td>Cont1</td>\n",
       "      <td>Cont</td>\n",
       "      <td>CNT_PC</td>\n",
       "      <td>11222</td>\n",
       "      <td>5136</td>\n",
       "      <td>45.481321</td>\n",
       "      <td>4.275887</td>\n",
       "      <td>-2.829012</td>\n",
       "      <td>5136</td>\n",
       "    </tr>\n",
       "    <tr>\n",
       "      <th>TTTGTGTAGCGAGAAA-9___cisTopic</th>\n",
       "      <td>8004</td>\n",
       "      <td>3.903307</td>\n",
       "      <td>3657</td>\n",
       "      <td>3.563125</td>\n",
       "      <td>cisTopic</td>\n",
       "      <td>TTTGTGTAGCGAGAAA-9</td>\n",
       "      <td>Cont1</td>\n",
       "      <td>Cont</td>\n",
       "      <td>DCT</td>\n",
       "      <td>8075</td>\n",
       "      <td>3690</td>\n",
       "      <td>42.972503</td>\n",
       "      <td>3.324263</td>\n",
       "      <td>-9.834156</td>\n",
       "      <td>3690</td>\n",
       "    </tr>\n",
       "    <tr>\n",
       "      <th>TTTGTGTCAGTCAGAG-9___cisTopic</th>\n",
       "      <td>14106</td>\n",
       "      <td>4.149404</td>\n",
       "      <td>6314</td>\n",
       "      <td>3.800305</td>\n",
       "      <td>cisTopic</td>\n",
       "      <td>TTTGTGTCAGTCAGAG-9</td>\n",
       "      <td>Cont1</td>\n",
       "      <td>Cont</td>\n",
       "      <td>DCT</td>\n",
       "      <td>14198</td>\n",
       "      <td>6357</td>\n",
       "      <td>42.390812</td>\n",
       "      <td>3.406742</td>\n",
       "      <td>-6.641195</td>\n",
       "      <td>6357</td>\n",
       "    </tr>\n",
       "  </tbody>\n",
       "</table>\n",
       "<p>1493 rows × 15 columns</p>\n",
       "</div>"
      ],
      "text/plain": [
       "                              cisTopic_nr_frag cisTopic_log_nr_frag  \\\n",
       "AAACGAAAGAGTGGAA-9___cisTopic             2154             3.333246   \n",
       "AAACGAATCCTAGAGT-9___cisTopic             2706             3.432328   \n",
       "AAACGAATCGTAGCGC-9___cisTopic            14186              4.15186   \n",
       "AAACTCGTCCCGCAAG-9___cisTopic             8641             3.936564   \n",
       "AAACTCGTCGTTCCGT-9___cisTopic             3292              3.51746   \n",
       "...                                        ...                  ...   \n",
       "TTTGGTTCATGGCCGT-9___cisTopic             5295             3.723866   \n",
       "TTTGGTTGTCCATTGA-9___cisTopic             9355             3.971044   \n",
       "TTTGGTTTCCAGAATC-9___cisTopic            11137             4.046768   \n",
       "TTTGTGTAGCGAGAAA-9___cisTopic             8004             3.903307   \n",
       "TTTGTGTCAGTCAGAG-9___cisTopic            14106             4.149404   \n",
       "\n",
       "                              cisTopic_nr_acc cisTopic_log_nr_acc sample_id  \\\n",
       "AAACGAAAGAGTGGAA-9___cisTopic            1062            3.026125  cisTopic   \n",
       "AAACGAATCCTAGAGT-9___cisTopic            1198            3.078457  cisTopic   \n",
       "AAACGAATCGTAGCGC-9___cisTopic            5910            3.771587  cisTopic   \n",
       "AAACTCGTCCCGCAAG-9___cisTopic            3913             3.59251  cisTopic   \n",
       "AAACTCGTCGTTCCGT-9___cisTopic            1523              3.1827  cisTopic   \n",
       "...                                       ...                 ...       ...   \n",
       "TTTGGTTCATGGCCGT-9___cisTopic            2494            3.396896  cisTopic   \n",
       "TTTGGTTGTCCATTGA-9___cisTopic            4306            3.634074  cisTopic   \n",
       "TTTGGTTTCCAGAATC-9___cisTopic            5099            3.707485  cisTopic   \n",
       "TTTGTGTAGCGAGAAA-9___cisTopic            3657            3.563125  cisTopic   \n",
       "TTTGTGTCAGTCAGAG-9___cisTopic            6314            3.800305  cisTopic   \n",
       "\n",
       "                                          barcode patient disease celltype  \\\n",
       "AAACGAAAGAGTGGAA-9___cisTopic  AAACGAAAGAGTGGAA-9   Cont1    Cont     ENDO   \n",
       "AAACGAATCCTAGAGT-9___cisTopic  AAACGAATCCTAGAGT-9   Cont1    Cont     ENDO   \n",
       "AAACGAATCGTAGCGC-9___cisTopic  AAACGAATCGTAGCGC-9   Cont1    Cont      DCT   \n",
       "AAACTCGTCCCGCAAG-9___cisTopic  AAACTCGTCCCGCAAG-9   Cont1    Cont   CNT_PC   \n",
       "AAACTCGTCGTTCCGT-9___cisTopic  AAACTCGTCGTTCCGT-9   Cont1    Cont     ENDO   \n",
       "...                                           ...     ...     ...      ...   \n",
       "TTTGGTTCATGGCCGT-9___cisTopic  TTTGGTTCATGGCCGT-9   Cont1    Cont   CNT_PC   \n",
       "TTTGGTTGTCCATTGA-9___cisTopic  TTTGGTTGTCCATTGA-9   Cont1    Cont   CNT_PC   \n",
       "TTTGGTTTCCAGAATC-9___cisTopic  TTTGGTTTCCAGAATC-9   Cont1    Cont   CNT_PC   \n",
       "TTTGTGTAGCGAGAAA-9___cisTopic  TTTGTGTAGCGAGAAA-9   Cont1    Cont      DCT   \n",
       "TTTGTGTCAGTCAGAG-9___cisTopic  TTTGTGTCAGTCAGAG-9   Cont1    Cont      DCT   \n",
       "\n",
       "                               nCount_peaks  nFeature_peaks  \\\n",
       "AAACGAAAGAGTGGAA-9___cisTopic          2170            1071   \n",
       "AAACGAATCCTAGAGT-9___cisTopic          2725            1208   \n",
       "AAACGAATCGTAGCGC-9___cisTopic         14290            5949   \n",
       "AAACTCGTCCCGCAAG-9___cisTopic          8709            3943   \n",
       "AAACTCGTCGTTCCGT-9___cisTopic          3311            1533   \n",
       "...                                     ...             ...   \n",
       "TTTGGTTCATGGCCGT-9___cisTopic          5335            2513   \n",
       "TTTGGTTGTCCATTGA-9___cisTopic          9414            4332   \n",
       "TTTGGTTTCCAGAATC-9___cisTopic         11222            5136   \n",
       "TTTGTGTAGCGAGAAA-9___cisTopic          8075            3690   \n",
       "TTTGTGTCAGTCAGAG-9___cisTopic         14198            6357   \n",
       "\n",
       "                               pct_reads_in_peaks    UMAP_1     UMAP_2  \\\n",
       "AAACGAAAGAGTGGAA-9___cisTopic           56.108597 -5.189037  12.198000   \n",
       "AAACGAATCCTAGAGT-9___cisTopic           32.089723 -3.146949  11.339225   \n",
       "AAACGAATCGTAGCGC-9___cisTopic           39.385151  3.811844  -8.781241   \n",
       "AAACTCGTCCCGCAAG-9___cisTopic           36.837855  4.660756  -4.110564   \n",
       "AAACTCGTCGTTCCGT-9___cisTopic           49.955687 -4.636066  11.613834   \n",
       "...                                           ...       ...        ...   \n",
       "TTTGGTTCATGGCCGT-9___cisTopic           58.038147  5.687326  -2.352779   \n",
       "TTTGGTTGTCCATTGA-9___cisTopic           62.787393  4.999651  -4.123445   \n",
       "TTTGGTTTCCAGAATC-9___cisTopic           45.481321  4.275887  -2.829012   \n",
       "TTTGTGTAGCGAGAAA-9___cisTopic           42.972503  3.324263  -9.834156   \n",
       "TTTGTGTCAGTCAGAG-9___cisTopic           42.390812  3.406742  -6.641195   \n",
       "\n",
       "                               n_genes  \n",
       "AAACGAAAGAGTGGAA-9___cisTopic     1071  \n",
       "AAACGAATCCTAGAGT-9___cisTopic     1208  \n",
       "AAACGAATCGTAGCGC-9___cisTopic     5949  \n",
       "AAACTCGTCCCGCAAG-9___cisTopic     3943  \n",
       "AAACTCGTCGTTCCGT-9___cisTopic     1533  \n",
       "...                                ...  \n",
       "TTTGGTTCATGGCCGT-9___cisTopic     2513  \n",
       "TTTGGTTGTCCATTGA-9___cisTopic     4332  \n",
       "TTTGGTTTCCAGAATC-9___cisTopic     5136  \n",
       "TTTGTGTAGCGAGAAA-9___cisTopic     3690  \n",
       "TTTGTGTCAGTCAGAG-9___cisTopic     6357  \n",
       "\n",
       "[1493 rows x 15 columns]"
      ]
     },
     "execution_count": 17,
     "metadata": {},
     "output_type": "execute_result"
    }
   ],
   "source": [
    "cistopic_obj.cell_data"
   ]
  },
  {
   "cell_type": "markdown",
   "metadata": {},
   "source": [
    "### Visualization\n",
    "\n",
    "We can use the cell-topic probabilities to generate dimensionality reductions."
   ]
  },
  {
   "cell_type": "markdown",
   "metadata": {},
   "source": [
    "We can also plot the cell-topic probabilities on the UMAP, to visualize their cell type specifiticy."
   ]
  },
  {
   "cell_type": "code",
   "execution_count": 18,
   "metadata": {},
   "outputs": [
    {
     "name": "stdout",
     "output_type": "stream",
     "text": [
      "2025-01-23 19:22:52,412 cisTopic     INFO     Running UMAP\n"
     ]
    },
    {
     "name": "stderr",
     "output_type": "stream",
     "text": [
      "/oscar/data/koconno5/tpham43/env_scenicplus/lib64/python3.9/site-packages/umap/umap_.py:1943: UserWarning: n_jobs value -1 overridden to 1 by setting random_state. Use no seed for parallelism.\n",
      "  warn(f\"n_jobs value {self.n_jobs} overridden to 1 by setting random_state. Use no seed for parallelism.\")\n"
     ]
    },
    {
     "data": {
      "image/png": "[encoded data removed]",
      "text/plain": [
       "<Figure size 640x480 with 1 Axes>"
      ]
     },
     "metadata": {},
     "output_type": "display_data"
    }
   ],
   "source": [
    "from pycisTopic.clust_vis import *\n",
    "run_umap(cistopic_obj, target  = 'cell', scale=True)\n",
    "plot_metadata(cistopic_obj, reduction_name = 'UMAP', variables = ['celltype'])"
   ]
  },
  {
   "cell_type": "markdown",
   "metadata": {},
   "source": [
    "### Inferring candidate enhancer regions\n",
    "\n",
    "Next we will infer candidate enhancer regions by:\n",
    "\n",
    "1. binarization of region-topic probabilites.\n",
    "2. calculation differentially accessibile regions (DARs) per cell type.\n",
    "\n",
    "These regions will be used as input for the next step, [pycistarget](https://pycistarget.readthedocs.io/en/latest/), in which we will look which motifs are enriched in these regions."
   ]
  },
  {
   "cell_type": "markdown",
   "metadata": {},
   "source": [
    "First we will binarize the topics using the [otsu](http://ieeexplore.ieee.org/document/4310076/) method and by taking the top 3k regions per topic."
   ]
  },
  {
   "cell_type": "code",
   "execution_count": 19,
   "metadata": {},
   "outputs": [
    {
     "data": {
      "text/plain": [
       "<Figure size 640x480 with 0 Axes>"
      ]
     },
     "metadata": {},
     "output_type": "display_data"
    },
    {
     "data": {
      "text/plain": [
       "<Figure size 640x480 with 0 Axes>"
      ]
     },
     "metadata": {},
     "output_type": "display_data"
    }
   ],
   "source": [
    "from pycisTopic.topic_binarization import *\n",
    "region_bin_topics_otsu = binarize_topics(cistopic_obj, method='otsu')\n",
    "region_bin_topics_top3k = binarize_topics(cistopic_obj, method='ntop', ntop = 3000)"
   ]
  },
  {
   "cell_type": "markdown",
   "metadata": {},
   "source": [
    "Next we will calculate DARs per cell type"
   ]
  },
  {
   "cell_type": "code",
   "execution_count": 20,
   "metadata": {},
   "outputs": [
    {
     "name": "stdout",
     "output_type": "stream",
     "text": [
      "2025-01-23 19:23:43,947 cisTopic     INFO     Imputing region accessibility\n",
      "2025-01-23 19:23:43,947 cisTopic     INFO     Impute region accessibility for regions 0-20000\n",
      "2025-01-23 19:23:44,107 cisTopic     INFO     Impute region accessibility for regions 20000-40000\n",
      "2025-01-23 19:23:44,227 cisTopic     INFO     Impute region accessibility for regions 40000-60000\n",
      "2025-01-23 19:23:44,345 cisTopic     INFO     Impute region accessibility for regions 60000-80000\n",
      "2025-01-23 19:23:44,459 cisTopic     INFO     Impute region accessibility for regions 80000-100000\n",
      "2025-01-23 19:23:44,582 cisTopic     INFO     Impute region accessibility for regions 100000-120000\n",
      "2025-01-23 19:23:44,665 cisTopic     INFO     Done!\n",
      "2025-01-23 19:23:44,666 cisTopic     INFO     Normalizing imputed data\n",
      "2025-01-23 19:23:45,154 cisTopic     INFO     Done!\n",
      "2025-01-23 19:23:45,155 cisTopic     INFO     Calculating mean\n",
      "2025-01-23 19:23:45,250 cisTopic     INFO     Calculating variance\n",
      "2025-01-23 19:23:47,150 cisTopic     INFO     Done!\n",
      "2025-01-23 19:23:47,279 cisTopic     INFO     Subsetting data for CNT_PC (686 of 1493)\n",
      "2025-01-23 19:23:50,250 cisTopic     INFO     Computing p-value for CNT_PC\n",
      "2025-01-23 19:24:04,354 cisTopic     INFO     Computing log2FC for CNT_PC\n",
      "2025-01-23 19:24:07,097 cisTopic     INFO     CNT_PC done!\n",
      "2025-01-23 19:24:07,099 cisTopic     INFO     Subsetting data for DCT (523 of 1493)\n",
      "2025-01-23 19:24:07,120 cisTopic     INFO     Computing p-value for DCT\n",
      "2025-01-23 19:24:21,023 cisTopic     INFO     Computing log2FC for DCT\n",
      "2025-01-23 19:24:21,048 cisTopic     INFO     DCT done!\n",
      "2025-01-23 19:24:21,050 cisTopic     INFO     Subsetting data for ENDO (284 of 1493)\n",
      "2025-01-23 19:24:21,073 cisTopic     INFO     Computing p-value for ENDO\n",
      "2025-01-23 19:24:34,986 cisTopic     INFO     Computing log2FC for ENDO\n",
      "2025-01-23 19:24:35,008 cisTopic     INFO     ENDO done!\n"
     ]
    },
    {
     "data": {
      "text/plain": [
       "<Figure size 640x480 with 0 Axes>"
      ]
     },
     "metadata": {},
     "output_type": "display_data"
    }
   ],
   "source": [
    "from pycisTopic.diff_features import *\n",
    "imputed_acc_obj = impute_accessibility(cistopic_obj, selected_cells=None, selected_regions=None, scale_factor=10**6)\n",
    "normalized_imputed_acc_obj = normalize_scores(imputed_acc_obj, scale_factor=10**4)\n",
    "variable_regions = find_highly_variable_features(normalized_imputed_acc_obj, plot = False)\n",
    "markers_dict = find_diff_features(cistopic_obj, imputed_acc_obj, variable='celltype', var_features=variable_regions, split_pattern = '-')"
   ]
  },
  {
   "cell_type": "code",
   "execution_count": 21,
   "metadata": {},
   "outputs": [],
   "source": [
    "pickle.dump(cistopic_obj,\n",
    "            open(os.path.join(work_dir, f'scATAC/cistopic_obj.pkl'), 'wb'))"
   ]
  },
  {
   "cell_type": "markdown",
   "metadata": {},
   "source": [
    "Save results"
   ]
  },
  {
   "cell_type": "code",
   "execution_count": 22,
   "metadata": {},
   "outputs": [],
   "source": [
    "if not os.path.exists(os.path.join(work_dir, f'scATAC/candidate_enhancers')):\n",
    "    os.makedirs(os.path.join(work_dir, f'scATAC/candidate_enhancers'))\n",
    "import pickle\n",
    "pickle.dump(region_bin_topics_otsu, open(os.path.join(work_dir, f'scATAC/candidate_enhancers/region_bin_topics_otsu.pkl'), 'wb'))\n",
    "pickle.dump(region_bin_topics_top3k, open(os.path.join(work_dir, f'scATAC/candidate_enhancers/region_bin_topics_top3k.pkl'), 'wb'))\n",
    "pickle.dump(markers_dict, open(os.path.join(work_dir, f'scATAC/candidate_enhancers/markers_dict.pkl'), 'wb'))"
   ]
  },
  {
   "cell_type": "markdown",
   "metadata": {},
   "source": [
    "We now completed all the mininal scATAC-seq preprocessing steps. \n",
    "\n",
    "In particular we:\n",
    "\n",
    "1. generated a set of consensus peaks\n",
    "2. performed quality control steps, only keeping cell barcods which passed QC metrics in both the scRNA-seq and scATAC-seq assay\n",
    "3. performed topic modeling\n",
    "4. inferred candidate enhancer regions by binarizing the region-topic probabilities and DARs per cell type\n",
    "\n",
    "In the next step we will perform motif enrichment analysis on these candidate enhancer regions using the python package, [pycistarget](phttps://pycistarget.readthedocs.io/en/latest/). For this a precomputed motif-score database is needed. A sample specific database can be generated by scoring the consensus peaks with motifs or a general pre-scored database can be used as well."
   ]
  },
  {
   "cell_type": "markdown",
   "metadata": {},
   "source": [
    "## Motif enrichment analysis using pycistarget\n",
    "\n",
    "After having identified candidate enhancer regions we will use [pycistarget](https://pycistarget.readthedocs.io/en/latest/) to find which motifs are enriched in these regions. "
   ]
  },
  {
   "cell_type": "markdown",
   "metadata": {},
   "source": [
    "### Cistarget databases\n",
    "\n",
    "In order to run pycistarget one needs a precomputed database containing motif scores for genomic regions.\n",
    "\n",
    "You can choose to compute this database yourself by scoring the consensus peaks generated in the scATAC-seq analysis using a set of motifs. The advantage of creating a sample specific database is that you can potentially pick up more target regions, given that only regions included/overlappig with regions in the cistarget database will be used for the SCENIC+ analysis. For more information checkout the [create_cisTarget_databases repo on github](https://github.com/aertslab/create_cisTarget_databases). \n",
    "\n",
    "We also provide several precomputed databases containing regions covering many experimentally defined candidate cis-regulatory elements. These databases are available on: [https://resources.aertslab.org/cistarget/](https://resources.aertslab.org/cistarget/).\n",
    "\n",
    "For this analysis we will use a precomputed database using [screen regions](https://screen.encodeproject.org/).\n",
    "\n",
    "Next to a precomputed motif database we also need a motif-to-tf annotation database. This is also available on [https://resources.aertslab.org/cistarget/](https://resources.aertslab.org/cistarget/)."
   ]
  },
  {
   "cell_type": "markdown",
   "metadata": {},
   "source": [
    "Load candidate enhancer regions identified in previous step."
   ]
  },
  {
   "cell_type": "code",
   "execution_count": 23,
   "metadata": {},
   "outputs": [],
   "source": [
    "import pickle\n",
    "region_bin_topics_otsu = pickle.load(open(os.path.join(work_dir, f'scATAC/candidate_enhancers/region_bin_topics_otsu.pkl'), 'rb'))\n",
    "region_bin_topics_top3k = pickle.load(open(os.path.join(work_dir, f'scATAC/candidate_enhancers/region_bin_topics_top3k.pkl'), 'rb'))\n",
    "markers_dict = pickle.load(open(os.path.join(work_dir, f'scATAC/candidate_enhancers/markers_dict.pkl'), 'rb'))"
   ]
  },
  {
   "cell_type": "markdown",
   "metadata": {},
   "source": [
    "Convert to dictionary of pyranges objects."
   ]
  },
  {
   "cell_type": "code",
   "execution_count": 24,
   "metadata": {},
   "outputs": [],
   "source": [
    "import pyranges as pr\n",
    "from pycistarget.utils import region_names_to_coordinates\n",
    "region_sets = {}\n",
    "region_sets['topics_otsu'] = {}\n",
    "region_sets['topics_top_3'] = {}\n",
    "region_sets['DARs'] = {}\n",
    "for topic in region_bin_topics_otsu.keys():\n",
    "    regions = region_bin_topics_otsu[topic].index[region_bin_topics_otsu[topic].index.str.startswith('chr')] #only keep regions on known chromosomes\n",
    "    region_sets['topics_otsu'][topic] = pr.PyRanges(region_names_to_coordinates(regions))\n",
    "for topic in region_bin_topics_top3k.keys():\n",
    "    regions = region_bin_topics_top3k[topic].index[region_bin_topics_top3k[topic].index.str.startswith('chr')] #only keep regions on known chromosomes\n",
    "    region_sets['topics_top_3'][topic] = pr.PyRanges(region_names_to_coordinates(regions))\n",
    "for DAR in markers_dict.keys():\n",
    "    regions = markers_dict[DAR].index[markers_dict[DAR].index.str.startswith('chr')] #only keep regions on known chromosomes\n",
    "    region_sets['DARs'][DAR] = pr.PyRanges(region_names_to_coordinates(regions))"
   ]
  },
  {
   "cell_type": "code",
   "execution_count": 25,
   "metadata": {},
   "outputs": [
    {
     "name": "stdout",
     "output_type": "stream",
     "text": [
      "topics_otsu: dict_keys(['Topic1', 'Topic2', 'Topic3', 'Topic4', 'Topic5', 'Topic6', 'Topic7', 'Topic8', 'Topic9', 'Topic10', 'Topic11', 'Topic12', 'Topic13', 'Topic14', 'Topic15', 'Topic16', 'Topic17', 'Topic18', 'Topic19', 'Topic20', 'Topic21', 'Topic22', 'Topic23', 'Topic24', 'Topic25', 'Topic26', 'Topic27', 'Topic28', 'Topic29', 'Topic30', 'Topic31', 'Topic32', 'Topic33', 'Topic34', 'Topic35', 'Topic36', 'Topic37', 'Topic38', 'Topic39', 'Topic40', 'Topic41', 'Topic42', 'Topic43', 'Topic44', 'Topic45', 'Topic46', 'Topic47', 'Topic48', 'Topic49', 'Topic50'])\n",
      "topics_top_3: dict_keys(['Topic1', 'Topic2', 'Topic3', 'Topic4', 'Topic5', 'Topic6', 'Topic7', 'Topic8', 'Topic9', 'Topic10', 'Topic11', 'Topic12', 'Topic13', 'Topic14', 'Topic15', 'Topic16', 'Topic17', 'Topic18', 'Topic19', 'Topic20', 'Topic21', 'Topic22', 'Topic23', 'Topic24', 'Topic25', 'Topic26', 'Topic27', 'Topic28', 'Topic29', 'Topic30', 'Topic31', 'Topic32', 'Topic33', 'Topic34', 'Topic35', 'Topic36', 'Topic37', 'Topic38', 'Topic39', 'Topic40', 'Topic41', 'Topic42', 'Topic43', 'Topic44', 'Topic45', 'Topic46', 'Topic47', 'Topic48', 'Topic49', 'Topic50'])\n",
      "DARs: dict_keys(['CNT_PC', 'DCT', 'ENDO'])\n"
     ]
    }
   ],
   "source": [
    "for key in region_sets.keys():\n",
    "    print(f'{key}: {region_sets[key].keys()}')"
   ]
  },
  {
   "cell_type": "markdown",
   "metadata": {},
   "source": [
    "Define rankings, score and motif annotation database.\n",
    "\n",
    "The ranking database is used for running the cistarget analysis and the scores database is used for running the DEM analysis. For more information see [the pycistarget read the docs page](https://pycistarget.readthedocs.io/en/latest/)\n"
   ]
  },
  {
   "cell_type": "code",
   "execution_count": 26,
   "metadata": {},
   "outputs": [],
   "source": [
    "db_fpath = \"/users/tpham43/koconno5/tpham43/scenicplus/notebooks/pbmc_tutorial/database\"\n",
    "motif_annot_fpath = \"/users/tpham43/koconno5/tpham43/scenicplus/notebooks/pbmc_tutorial/database\""
   ]
  },
  {
   "cell_type": "code",
   "execution_count": 27,
   "metadata": {},
   "outputs": [],
   "source": [
    "rankings_db = os.path.join(db_fpath, 'hg38_screen_v10_clust.regions_vs_motifs.rankings.feather')\n",
    "scores_db =  os.path.join(db_fpath, 'hg38_screen_v10_clust.regions_vs_motifs.scores.feather')\n",
    "motif_annotation = os.path.join(motif_annot_fpath, 'motifs-v10nr_clust-nr.hgnc-m0.001-o0.0.tbl')"
   ]
  },
  {
   "cell_type": "markdown",
   "metadata": {},
   "source": [
    "Next we will run pycistarget using the `run_pycistarget` wrapper function.\n",
    "\n",
    "This function will run cistarget based and DEM based motif enrichment analysis with or without promoter regions.\n"
   ]
  },
  {
   "cell_type": "code",
   "execution_count": 28,
   "metadata": {},
   "outputs": [],
   "source": [
    "if not os.path.exists(os.path.join(work_dir, f'motifs')):\n",
    "    os.makedirs(os.path.join(work_dir, f'motifs'))"
   ]
  },
  {
   "cell_type": "code",
   "execution_count": null,
   "metadata": {},
   "outputs": [
    {
     "name": "stdout",
     "output_type": "stream",
     "text": [
      "2025-01-23 19:04:28,365 pycisTarget_wrapper INFO     /users/tpham43/rsingh47/tpham43/GROT/tutorial_kidney/processing/cistopic/motifs folder already exists.\n",
      "2025-01-23 19:04:54,028 pycisTarget_wrapper INFO     Loading cisTarget database for topics_otsu\n",
      "2025-01-23 19:04:54,029 cisTarget    INFO     Reading cisTarget database\n"
     ]
    },
    {
     "name": "stderr",
     "output_type": "stream",
     "text": [
      "/oscar/data/koconno5/tpham43/env_scenicplus/lib64/python3.9/site-packages/pybiomart/dataset.py:269: DtypeWarning: Columns (0) have mixed types. Specify dtype option on import or set low_memory=False.\n",
      "  result = pd.read_csv(StringIO(response.text), sep='\\t')\n"
     ]
    },
    {
     "name": "stdout",
     "output_type": "stream",
     "text": [
      "2025-01-23 19:08:09,091 pycisTarget_wrapper INFO     Running cisTarget for topics_otsu\n"
     ]
    },
    {
     "name": "stderr",
     "output_type": "stream",
     "text": [
      "2025-01-23 19:08:13,504\tINFO worker.py:1743 -- Started a local Ray instance. View the dashboard at \u001b[1m\u001b[32m127.0.0.1:8265 \u001b[39m\u001b[22m\n"
     ]
    },
    {
     "name": "stdout",
     "output_type": "stream",
     "text": [
      "\u001b[36m(ctx_internal_ray pid=2687055)\u001b[0m 2025-01-23 19:08:17,260 cisTarget    INFO     Running cisTarget for Topic1 which has 7570 regions\n",
      "\u001b[36m(ctx_internal_ray pid=2687066)\u001b[0m 2025-01-23 19:08:22,388 cisTarget    INFO     Running cisTarget for Topic8 which has 4816 regions\u001b[32m [repeated 7x across cluster] (Ray deduplicates logs by default. Set RAY_DEDUP_LOGS=0 to disable log deduplication, or see https://docs.ray.io/en/master/ray-observability/ray-logging.html#log-deduplication for more options.)\u001b[0m\n",
      "\u001b[36m(ctx_internal_ray pid=2687055)\u001b[0m 2025-01-23 19:08:28,421 cisTarget    INFO     Annotating motifs for Topic1\n",
      "\u001b[36m(ctx_internal_ray pid=2687051)\u001b[0m 2025-01-23 19:08:27,240 cisTarget    INFO     Running cisTarget for Topic13 which has 9275 regions\u001b[32m [repeated 5x across cluster]\u001b[0m\n",
      "\u001b[36m(ctx_internal_ray pid=2687055)\u001b[0m 2025-01-23 19:08:30,323 cisTarget    INFO     Getting cistromes for Topic1\n",
      "\u001b[36m(ctx_internal_ray pid=2687053)\u001b[0m 2025-01-23 19:08:32,351 cisTarget    INFO     Annotating motifs for Topic5\u001b[32m [repeated 5x across cluster]\u001b[0m\n",
      "\u001b[36m(ctx_internal_ray pid=2687059)\u001b[0m 2025-01-23 19:08:32,884 cisTarget    INFO     Running cisTarget for Topic17 which has 4811 regions\u001b[32m [repeated 6x across cluster]\u001b[0m\n",
      "\u001b[36m(ctx_internal_ray pid=2687068)\u001b[0m 2025-01-23 19:08:35,491 cisTarget    INFO     Getting cistromes for Topic7\u001b[32m [repeated 6x across cluster]\u001b[0m\n",
      "\u001b[36m(ctx_internal_ray pid=2687056)\u001b[0m 2025-01-23 19:08:39,455 cisTarget    INFO     Annotating motifs for Topic12\u001b[32m [repeated 5x across cluster]\u001b[0m\n",
      "\u001b[36m(ctx_internal_ray pid=2687063)\u001b[0m 2025-01-23 19:08:38,438 cisTarget    INFO     Running cisTarget for Topic25 which has 4671 regions\u001b[32m [repeated 6x across cluster]\u001b[0m\n",
      "\u001b[36m(ctx_internal_ray pid=2687054)\u001b[0m 2025-01-23 19:08:40,397 cisTarget    INFO     Getting cistromes for Topic10\u001b[32m [repeated 3x across cluster]\u001b[0m\n",
      "\u001b[36m(ctx_internal_ray pid=2687053)\u001b[0m 2025-01-23 19:08:44,336 cisTarget    INFO     Annotating motifs for Topic22\u001b[32m [repeated 7x across cluster]\u001b[0m\n",
      "\u001b[36m(ctx_internal_ray pid=2687056)\u001b[0m 2025-01-23 19:08:44,277 cisTarget    INFO     Running cisTarget for Topic30 which has 4296 regions\u001b[32m [repeated 4x across cluster]\u001b[0m\n",
      "\u001b[36m(ctx_internal_ray pid=2687053)\u001b[0m 2025-01-23 19:08:46,169 cisTarget    INFO     Getting cistromes for Topic22\u001b[32m [repeated 7x across cluster]\u001b[0m\n",
      "\u001b[36m(ctx_internal_ray pid=2687064)\u001b[0m 2025-01-23 19:08:49,174 cisTarget    INFO     Annotating motifs for Topic27\u001b[32m [repeated 9x across cluster]\u001b[0m\n",
      "\u001b[36m(ctx_internal_ray pid=2687063)\u001b[0m 2025-01-23 19:08:50,447 cisTarget    INFO     Running cisTarget for Topic35 which has 26285 regions\u001b[32m [repeated 6x across cluster]\u001b[0m\n",
      "\u001b[36m(ctx_internal_ray pid=2687052)\u001b[0m 2025-01-23 19:08:50,820 cisTarget    INFO     Getting cistromes for Topic18\u001b[32m [repeated 10x across cluster]\u001b[0m\n",
      "\u001b[36m(ctx_internal_ray pid=2687062)\u001b[0m 2025-01-23 19:08:55,768 cisTarget    INFO     Annotating motifs for Topic33\u001b[32m [repeated 5x across cluster]\u001b[0m\n",
      "\u001b[36m(ctx_internal_ray pid=2687056)\u001b[0m 2025-01-23 19:08:54,825 cisTarget    INFO     Running cisTarget for Topic39 which has 5647 regions\u001b[32m [repeated 4x across cluster]\u001b[0m\n",
      "\u001b[36m(ctx_internal_ray pid=2687055)\u001b[0m 2025-01-23 19:08:55,247 cisTarget    INFO     Getting cistromes for Topic32\u001b[32m [repeated 4x across cluster]\u001b[0m\n",
      "\u001b[36m(ctx_internal_ray pid=2687057)\u001b[0m 2025-01-23 19:09:00,357 cisTarget    INFO     Annotating motifs for Topic29\u001b[32m [repeated 2x across cluster]\u001b[0m\n",
      "\u001b[36m(ctx_internal_ray pid=2687062)\u001b[0m 2025-01-23 19:09:00,627 cisTarget    INFO     Running cisTarget for Topic44 which has 11078 regions\u001b[32m [repeated 5x across cluster]\u001b[0m\n",
      "\u001b[36m(ctx_internal_ray pid=2687065)\u001b[0m 2025-01-23 19:08:58,819 cisTarget    INFO     Getting cistromes for Topic34\u001b[32m [repeated 2x across cluster]\u001b[0m\n"
     ]
    },
    {
     "name": "stderr",
     "output_type": "stream",
     "text": [
      "2025-01-23 19:09:29,779\tERROR external_storage.py:360 -- Error cleaning up spill files. You might still have remaining spilled objects inside `ray_spilled_objects` directory.\n",
      "Traceback (most recent call last):\n",
      "  File \"/oscar/data/koconno5/tpham43/env_scenicplus/lib64/python3.9/site-packages/ray/_private/external_storage.py\", line 354, in _destroy_external_storage\n",
      "    shutil.rmtree(directory_path)\n",
      "  File \"/usr/lib64/python3.9/shutil.py\", line 734, in rmtree\n",
      "    _rmtree_safe_fd(fd, path, onerror)\n",
      "  File \"/usr/lib64/python3.9/shutil.py\", line 690, in _rmtree_safe_fd\n",
      "    onerror(os.unlink, fullname, sys.exc_info())\n",
      "  File \"/usr/lib64/python3.9/shutil.py\", line 688, in _rmtree_safe_fd\n",
      "    os.unlink(entry.name, dir_fd=topfd)\n",
      "OSError: [Errno 16] Device or resource busy: '.nfs9d96143c6388044200003d97'\n"
     ]
    },
    {
     "name": "stdout",
     "output_type": "stream",
     "text": [
      "2025-01-23 19:09:31,382 cisTarget    INFO     Done!\n",
      "2025-01-23 19:09:31,390 pycisTarget_wrapper INFO     Created folder : /users/tpham43/rsingh47/tpham43/GROT/tutorial_kidney/processing/cistopic/motifs/CTX_topics_otsu_All\n",
      "2025-01-23 19:09:32,115 pycisTarget_wrapper INFO     Running cisTarget without promoters for topics_otsu\n"
     ]
    },
    {
     "name": "stderr",
     "output_type": "stream",
     "text": [
      "2025-01-23 19:10:04,145\tINFO worker.py:1743 -- Started a local Ray instance. View the dashboard at \u001b[1m\u001b[32m127.0.0.1:8265 \u001b[39m\u001b[22m\n"
     ]
    },
    {
     "name": "stdout",
     "output_type": "stream",
     "text": [
      "\u001b[36m(ctx_internal_ray pid=2690790)\u001b[0m 2025-01-23 19:10:08,471 cisTarget    INFO     Running cisTarget for Topic1 which has 4549 regions\n",
      "\u001b[36m(ctx_internal_ray pid=2690792)\u001b[0m 2025-01-23 19:10:13,991 cisTarget    INFO     Running cisTarget for Topic9 which has 2422 regions\u001b[32m [repeated 8x across cluster]\u001b[0m\n",
      "\u001b[36m(ctx_internal_ray pid=2690779)\u001b[0m 2025-01-23 19:10:18,997 cisTarget    INFO     Running cisTarget for Topic14 which has 2592 regions\u001b[32m [repeated 5x across cluster]\u001b[0m\n",
      "\u001b[36m(ctx_internal_ray pid=2690797)\u001b[0m 2025-01-23 19:10:19,648 cisTarget    INFO     Annotating motifs for Topic2\n",
      "\u001b[36m(ctx_internal_ray pid=2690790)\u001b[0m 2025-01-23 19:10:21,643 cisTarget    INFO     Getting cistromes for Topic1\n",
      "\u001b[36m(ctx_internal_ray pid=2690786)\u001b[0m 2025-01-23 19:10:23,525 cisTarget    INFO     Running cisTarget for Topic17 which has 2843 regions\u001b[32m [repeated 6x across cluster]\u001b[0m\n",
      "\u001b[36m(ctx_internal_ray pid=2690780)\u001b[0m 2025-01-23 19:10:24,423 cisTarget    INFO     Annotating motifs for Topic6\u001b[32m [repeated 6x across cluster]\u001b[0m\n",
      "\u001b[36m(ctx_internal_ray pid=2690780)\u001b[0m 2025-01-23 19:10:26,496 cisTarget    INFO     Getting cistromes for Topic6\u001b[32m [repeated 6x across cluster]\u001b[0m\n",
      "\u001b[36m(ctx_internal_ray pid=2690792)\u001b[0m 2025-01-23 19:10:28,937 cisTarget    INFO     Running cisTarget for Topic26 which has 2687 regions\u001b[32m [repeated 6x across cluster]\u001b[0m\n",
      "\u001b[36m(ctx_internal_ray pid=2690794)\u001b[0m 2025-01-23 19:10:30,317 cisTarget    INFO     Annotating motifs for Topic21\u001b[32m [repeated 8x across cluster]\u001b[0m\n",
      "\u001b[36m(ctx_internal_ray pid=2690794)\u001b[0m 2025-01-23 19:10:31,637 cisTarget    INFO     Getting cistromes for Topic21\u001b[32m [repeated 8x across cluster]\u001b[0m\n",
      "\u001b[36m(ctx_internal_ray pid=2690779)\u001b[0m 2025-01-23 19:10:33,796 cisTarget    INFO     Running cisTarget for Topic30 which has 2395 regions\u001b[32m [repeated 4x across cluster]\u001b[0m\n",
      "\u001b[36m(ctx_internal_ray pid=2690785)\u001b[0m 2025-01-23 19:10:35,194 cisTarget    INFO     Annotating motifs for Topic15\u001b[32m [repeated 7x across cluster]\u001b[0m\n",
      "\u001b[36m(ctx_internal_ray pid=2690793)\u001b[0m 2025-01-23 19:10:35,717 cisTarget    INFO     Getting cistromes for Topic24\u001b[32m [repeated 6x across cluster]\u001b[0m\n",
      "\u001b[36m(ctx_internal_ray pid=2690792)\u001b[0m 2025-01-23 19:10:39,408 cisTarget    INFO     Running cisTarget for Topic33 which has 3181 regions\u001b[32m [repeated 3x across cluster]\u001b[0m\n",
      "\u001b[36m(ctx_internal_ray pid=2690779)\u001b[0m 2025-01-23 19:10:40,767 cisTarget    INFO     Annotating motifs for Topic30\u001b[32m [repeated 8x across cluster]\u001b[0m\n",
      "\u001b[36m(ctx_internal_ray pid=2690789)\u001b[0m 2025-01-23 19:10:42,702 cisTarget    INFO     Getting cistromes for Topic28\u001b[32m [repeated 9x across cluster]\u001b[0m\n",
      "\u001b[36m(ctx_internal_ray pid=2690789)\u001b[0m 2025-01-23 19:10:43,656 cisTarget    INFO     Running cisTarget for Topic37 which has 6588 regions\u001b[32m [repeated 4x across cluster]\u001b[0m\n",
      "\u001b[36m(ctx_internal_ray pid=2690793)\u001b[0m 2025-01-23 19:10:43,961 cisTarget    INFO     Annotating motifs for Topic32\u001b[32m [repeated 2x across cluster]\u001b[0m\n",
      "\u001b[36m(ctx_internal_ray pid=2690793)\u001b[0m 2025-01-23 19:10:45,982 cisTarget    INFO     Getting cistromes for Topic32\u001b[32m [repeated 2x across cluster]\u001b[0m\n",
      "\u001b[33m(raylet)\u001b[0m A worker died or was killed while executing a task by an unexpected system error. To troubleshoot the problem, check the logs for the dead worker. RayTask ID: bf87287167502523f00fa249364c2646d0e3c75c01000000 Worker ID: b7aa576ec8dcdb34d0cae0f45a7ab54d84a4e92210ab90d617ea7e10 Node ID: c2295b223c1621cea92d4999c6e09f67761aa547bc8f7e68a6a39490 Worker IP address: 172.20.220.10 Worker port: 37371 Worker PID: 2690794 Worker exit type: SYSTEM_ERROR Worker exit detail: Worker unexpectedly exits with a connection error code 2. End of file. There are some potential root causes. (1) The process is killed by SIGKILL by OOM killer due to high memory usage. (2) ray stop --force is called. (3) The worker is crashed unexpectedly due to SIGSEGV or other unexpected errors.\n",
      "\u001b[36m(ctx_internal_ray pid=2690794)\u001b[0m 2025-01-23 19:10:49,308 cisTarget    INFO     Running cisTarget for Topic41 which has 2868 regions\u001b[32m [repeated 4x across cluster]\u001b[0m\n",
      "\u001b[36m(ctx_internal_ray pid=2690796)\u001b[0m 2025-01-23 19:10:47,710 cisTarget    INFO     Annotating motifs for Topic34\u001b[32m [repeated 2x across cluster]\u001b[0m\n",
      "\u001b[36m(ctx_internal_ray pid=2690796)\u001b[0m 2025-01-23 19:10:49,453 cisTarget    INFO     Getting cistromes for Topic34\u001b[32m [repeated 2x across cluster]\u001b[0m\n",
      "\u001b[33m(raylet)\u001b[0m A worker died or was killed while executing a task by an unexpected system error. To troubleshoot the problem, check the logs for the dead worker. RayTask ID: dc91050cda2a4ef067a9edb0840469b9d668eced01000000 Worker ID: caee15f0cf4c9d7bd2b7ea671edc69911c1a450c97d8c7be07fc8b63 Node ID: c2295b223c1621cea92d4999c6e09f67761aa547bc8f7e68a6a39490 Worker IP address: 172.20.220.10 Worker port: 41049 Worker PID: 2690785 Worker exit type: SYSTEM_ERROR Worker exit detail: Worker unexpectedly exits with a connection error code 2. End of file. There are some potential root causes. (1) The process is killed by SIGKILL by OOM killer due to high memory usage. (2) ray stop --force is called. (3) The worker is crashed unexpectedly due to SIGSEGV or other unexpected errors.\u001b[32m [repeated 3x across cluster]\u001b[0m\n",
      "\u001b[33m(raylet)\u001b[0m A worker died or was killed while executing a task by an unexpected system error. To troubleshoot the problem, check the logs for the dead worker. RayTask ID: c699eaef7a7daf0fc9a72c9503afc0e321acbfea01000000 Worker ID: 0fd1319f7f8ed00d69ea9a690543b036e61d78ab5e189f8727c6f190 Node ID: c2295b223c1621cea92d4999c6e09f67761aa547bc8f7e68a6a39490 Worker IP address: 172.20.220.10 Worker port: 41525 Worker PID: 2690791 Worker exit type: SYSTEM_ERROR Worker exit detail: Worker unexpectedly exits with a connection error code 2. End of file. There are some potential root causes. (1) The process is killed by SIGKILL by OOM killer due to high memory usage. (2) ray stop --force is called. (3) The worker is crashed unexpectedly due to SIGSEGV or other unexpected errors.\n"
     ]
    },
    {
     "name": "stderr",
     "output_type": "stream",
     "text": [
      "2025-01-23 19:11:28,842\tERROR external_storage.py:360 -- Error cleaning up spill files. You might still have remaining spilled objects inside `ray_spilled_objects` directory.\n",
      "Traceback (most recent call last):\n",
      "  File \"/oscar/data/koconno5/tpham43/env_scenicplus/lib64/python3.9/site-packages/ray/_private/external_storage.py\", line 354, in _destroy_external_storage\n",
      "    shutil.rmtree(directory_path)\n",
      "  File \"/usr/lib64/python3.9/shutil.py\", line 734, in rmtree\n",
      "    _rmtree_safe_fd(fd, path, onerror)\n",
      "  File \"/usr/lib64/python3.9/shutil.py\", line 690, in _rmtree_safe_fd\n",
      "    onerror(os.unlink, fullname, sys.exc_info())\n",
      "  File \"/usr/lib64/python3.9/shutil.py\", line 688, in _rmtree_safe_fd\n",
      "    os.unlink(entry.name, dir_fd=topfd)\n",
      "OSError: [Errno 16] Device or resource busy: '.nfsc21f63bd4617a11900003d9a'\n"
     ]
    },
    {
     "name": "stdout",
     "output_type": "stream",
     "text": [
      "2025-01-23 19:11:30,712 cisTarget    INFO     Done!\n",
      "2025-01-23 19:11:30,720 pycisTarget_wrapper INFO     Created folder:/users/tpham43/rsingh47/tpham43/GROT/tutorial_kidney/processing/cistopic/motifs/CTX_topics_otsu_No_promoters\n",
      "2025-01-23 19:11:31,362 pycisTarget_wrapper INFO     Running DEM for topics_otsu\n",
      "2025-01-23 19:11:31,363 DEM          INFO     Reading DEM database\n",
      "2025-01-23 19:16:01,758 DEM          INFO     Creating contrast groups\n"
     ]
    },
    {
     "name": "stderr",
     "output_type": "stream",
     "text": [
      "2025-01-23 19:16:52,282\tINFO worker.py:1743 -- Started a local Ray instance. View the dashboard at \u001b[1m\u001b[32m127.0.0.1:8265 \u001b[39m\u001b[22m\n"
     ]
    },
    {
     "name": "stdout",
     "output_type": "stream",
     "text": [
      "\u001b[36m(DEM_internal_ray pid=2694657)\u001b[0m 2025-01-23 19:16:58,841 DEM          INFO     Computing DEM for Topic2\n",
      "\u001b[33m(raylet)\u001b[0m A worker died or was killed while executing a task by an unexpected system error. To troubleshoot the problem, check the logs for the dead worker. RayTask ID: 0d0dd3349cc9ec3c0ceb812bf66bd1d8d9e9a23901000000 Worker ID: 289c50b983e0551b6726f96d4a806aabdee3b6c6ba1603b79558a57a Node ID: ce425e96619d829336c6894092975481b7a82c527dce3bdb454e99e6 Worker IP address: 172.20.220.10 Worker port: 42239 Worker PID: 2694658 Worker exit type: SYSTEM_ERROR Worker exit detail: Worker unexpectedly exits with a connection error code 2. End of file. There are some potential root causes. (1) The process is killed by SIGKILL by OOM killer due to high memory usage. (2) ray stop --force is called. (3) The worker is crashed unexpectedly due to SIGSEGV or other unexpected errors.\n",
      "\u001b[36m(DEM_internal_ray pid=2694651)\u001b[0m 2025-01-23 19:17:01,903 DEM          INFO     Computing DEM for Topic5\u001b[32m [repeated 4x across cluster]\u001b[0m\n",
      "\u001b[33m(raylet)\u001b[0m A worker died or was killed while executing a task by an unexpected system error. To troubleshoot the problem, check the logs for the dead worker. RayTask ID: 4f2382e2782e25173b244726aba315605370642701000000 Worker ID: 59224f001905efb31fc982a6a3a580a2b8f3719a0b72f0190c780d6b Node ID: ce425e96619d829336c6894092975481b7a82c527dce3bdb454e99e6 Worker IP address: 172.20.220.10 Worker port: 39917 Worker PID: 2694668 Worker exit type: SYSTEM_ERROR Worker exit detail: The leased worker has unrecoverable failure. Worker is requested to be destroyed when it is returned. RPC Error message: Socket closed; RPC Error details: \n"
     ]
    }
   ],
   "source": [
    "from scenicplus.wrappers.run_pycistarget import run_pycistarget\n",
    "run_pycistarget(\n",
    "    region_sets = region_sets,\n",
    "    species = 'homo_sapiens',\n",
    "    save_path = os.path.join(work_dir, f'motifs'),\n",
    "    ctx_db_path = rankings_db,\n",
    "    dem_db_path = scores_db,\n",
    "    path_to_motif_annotations = motif_annotation,\n",
    "    run_without_promoters = True,\n",
    "    n_cpu = 20,\n",
    "    _temp_dir = os.path.join(tmp_dir, 'ray_spill'),\n",
    "    annotation_version = 'v10nr_clust',\n",
    "    )"
   ]
  },
  {
   "cell_type": "code",
   "execution_count": null,
   "metadata": {},
   "outputs": [],
   "source": [
    "import dill\n",
    "menr = dill.load(open(os.path.join(work_dir, f'motifs/menr.pkl'), 'rb'))"
   ]
  },
  {
   "cell_type": "markdown",
   "metadata": {},
   "source": [
    "## inferring enhancer-driven Gene Regulatory Networks (eGRNs) using SCENIC+\n",
    "\n",
    "We now have completed all the steps for running the SCENIC+ analysis. \n",
    "\n",
    "We will start by creating a scenicplus object containing all the analysis we have done up to this point.\n",
    "\n",
    "For this we will need to load:\n",
    "\n",
    "1. the AnnData object containing the scRNA-seq side of the analysis.\n",
    "2. the cisTopic object containing the scATAC-seq side of the analysis.\n",
    "3. the motif enrichment dictionary containing the motif enrichment results."
   ]
  },
  {
   "cell_type": "code",
   "execution_count": 29,
   "metadata": {},
   "outputs": [
    {
     "ename": "FileNotFoundError",
     "evalue": "[Errno 2] No such file or directory: '/users/tpham43/rsingh47/tpham43/GROT/tutorial_kidney/processing/cistopic/motifs/menr.pkl'",
     "output_type": "error",
     "traceback": [
      "\u001b[0;31m---------------------------------------------------------------------------\u001b[0m",
      "\u001b[0;31mFileNotFoundError\u001b[0m                         Traceback (most recent call last)",
      "Cell \u001b[0;32mIn[29], line 18\u001b[0m\n\u001b[1;32m     16\u001b[0m adata \u001b[38;5;241m=\u001b[39m sc\u001b[38;5;241m.\u001b[39mread_h5ad(\u001b[38;5;124m\"\u001b[39m\u001b[38;5;124m../../GROT/tutorial_snare/data/rna_downsampled_snare.h5ad\u001b[39m\u001b[38;5;124m\"\u001b[39m)\n\u001b[1;32m     17\u001b[0m cistopic_obj \u001b[38;5;241m=\u001b[39m dill\u001b[38;5;241m.\u001b[39mload(\u001b[38;5;28mopen\u001b[39m(os\u001b[38;5;241m.\u001b[39mpath\u001b[38;5;241m.\u001b[39mjoin(work_dir, \u001b[38;5;124mf\u001b[39m\u001b[38;5;124m'\u001b[39m\u001b[38;5;124mscATAC/cistopic_obj.pkl\u001b[39m\u001b[38;5;124m'\u001b[39m), \u001b[38;5;124m'\u001b[39m\u001b[38;5;124mrb\u001b[39m\u001b[38;5;124m'\u001b[39m))\n\u001b[0;32m---> 18\u001b[0m menr \u001b[38;5;241m=\u001b[39m dill\u001b[38;5;241m.\u001b[39mload(\u001b[38;5;28;43mopen\u001b[39;49m\u001b[43m(\u001b[49m\u001b[43mos\u001b[49m\u001b[38;5;241;43m.\u001b[39;49m\u001b[43mpath\u001b[49m\u001b[38;5;241;43m.\u001b[39;49m\u001b[43mjoin\u001b[49m\u001b[43m(\u001b[49m\u001b[43mwork_dir\u001b[49m\u001b[43m,\u001b[49m\u001b[43m \u001b[49m\u001b[38;5;124;43mf\u001b[39;49m\u001b[38;5;124;43m'\u001b[39;49m\u001b[38;5;124;43mmotifs/menr.pkl\u001b[39;49m\u001b[38;5;124;43m'\u001b[39;49m\u001b[43m)\u001b[49m\u001b[43m,\u001b[49m\u001b[43m \u001b[49m\u001b[38;5;124;43m'\u001b[39;49m\u001b[38;5;124;43mrb\u001b[39;49m\u001b[38;5;124;43m'\u001b[39;49m\u001b[43m)\u001b[49m)\n",
      "File \u001b[0;32m/oscar/data/koconno5/tpham43/env_scenicplus/lib64/python3.9/site-packages/IPython/core/interactiveshell.py:310\u001b[0m, in \u001b[0;36m_modified_open\u001b[0;34m(file, *args, **kwargs)\u001b[0m\n\u001b[1;32m    303\u001b[0m \u001b[38;5;28;01mif\u001b[39;00m file \u001b[38;5;129;01min\u001b[39;00m {\u001b[38;5;241m0\u001b[39m, \u001b[38;5;241m1\u001b[39m, \u001b[38;5;241m2\u001b[39m}:\n\u001b[1;32m    304\u001b[0m     \u001b[38;5;28;01mraise\u001b[39;00m \u001b[38;5;167;01mValueError\u001b[39;00m(\n\u001b[1;32m    305\u001b[0m         \u001b[38;5;124mf\u001b[39m\u001b[38;5;124m\"\u001b[39m\u001b[38;5;124mIPython won\u001b[39m\u001b[38;5;124m'\u001b[39m\u001b[38;5;124mt let you open fd=\u001b[39m\u001b[38;5;132;01m{\u001b[39;00mfile\u001b[38;5;132;01m}\u001b[39;00m\u001b[38;5;124m by default \u001b[39m\u001b[38;5;124m\"\u001b[39m\n\u001b[1;32m    306\u001b[0m         \u001b[38;5;124m\"\u001b[39m\u001b[38;5;124mas it is likely to crash IPython. If you know what you are doing, \u001b[39m\u001b[38;5;124m\"\u001b[39m\n\u001b[1;32m    307\u001b[0m         \u001b[38;5;124m\"\u001b[39m\u001b[38;5;124myou can use builtins\u001b[39m\u001b[38;5;124m'\u001b[39m\u001b[38;5;124m open.\u001b[39m\u001b[38;5;124m\"\u001b[39m\n\u001b[1;32m    308\u001b[0m     )\n\u001b[0;32m--> 310\u001b[0m \u001b[38;5;28;01mreturn\u001b[39;00m \u001b[43mio_open\u001b[49m\u001b[43m(\u001b[49m\u001b[43mfile\u001b[49m\u001b[43m,\u001b[49m\u001b[43m \u001b[49m\u001b[38;5;241;43m*\u001b[39;49m\u001b[43margs\u001b[49m\u001b[43m,\u001b[49m\u001b[43m \u001b[49m\u001b[38;5;241;43m*\u001b[39;49m\u001b[38;5;241;43m*\u001b[39;49m\u001b[43mkwargs\u001b[49m\u001b[43m)\u001b[49m\n",
      "\u001b[0;31mFileNotFoundError\u001b[0m: [Errno 2] No such file or directory: '/users/tpham43/rsingh47/tpham43/GROT/tutorial_kidney/processing/cistopic/motifs/menr.pkl'"
     ]
    }
   ],
   "source": [
    "import dill\n",
    "import scanpy as sc\n",
    "import os\n",
    "import warnings\n",
    "warnings.filterwarnings(\"ignore\")\n",
    "import pandas\n",
    "import pyranges\n",
    "# Set stderr to null to avoid strange messages from ray\n",
    "import sys\n",
    "_stderr = sys.stderr                                                         \n",
    "null = open(os.devnull,'wb')\n",
    "# work_dir = 'pbmc_tutorial'\n",
    "tmp_dir = '/users/tpham43/scratch'\n",
    "\n",
    "\n",
    "adata = sc.read_h5ad(\"../../GROT/tutorial_snare/data/rna_downsampled_snare.h5ad\")\n",
    "cistopic_obj = dill.load(open(os.path.join(work_dir, f'scATAC/cistopic_obj.pkl'), 'rb'))\n",
    "menr = dill.load(open(os.path.join(work_dir, f'motifs/menr.pkl'), 'rb'))"
   ]
  },
  {
   "cell_type": "code",
   "execution_count": 30,
   "metadata": {},
   "outputs": [],
   "source": [
    "adata.obs.index = adata.obs.index +\"___cisTopic\""
   ]
  },
  {
   "cell_type": "code",
   "execution_count": 31,
   "metadata": {},
   "outputs": [],
   "source": [
    "tmp_dir = '/users/tpham43/scratch'\n"
   ]
  },
  {
   "cell_type": "markdown",
   "metadata": {},
   "source": [
    "Create the SCENIC+ object. It will store both the gene expression and chromatin accessibility along with motif enrichment results and cell/region/gene metadata.\n",
    "\n",
    "Cell metadata comming from the cistopic_obj will be prefixed with the string `ACC_` and metadata comming from the adata object will be prefixed with the string `GEX_`."
   ]
  },
  {
   "cell_type": "code",
   "execution_count": null,
   "metadata": {},
   "outputs": [],
   "source": [
    "from scenicplus.scenicplus_class import create_SCENICPLUS_object\n",
    "import numpy as np\n",
    "scplus_obj = create_SCENICPLUS_object(\n",
    "    GEX_anndata = adata,\n",
    "    cisTopic_obj = cistopic_obj,\n",
    "    menr = menr,\n",
    "    \n",
    "#     bc_transform_func = lambda x: f'{x}-10x_pbmc' #function to convert scATAC-seq barcodes to scRNA-seq ones\n",
    ")\n",
    "# scplus_obj.X_EXP = np.array(scplus_obj.X_EXP)\n",
    "scplus_obj"
   ]
  },
  {
   "cell_type": "code",
   "execution_count": null,
   "metadata": {},
   "outputs": [],
   "source": [
    "biomart_host = \"http://sep2019.archive.ensembl.org/\""
   ]
  },
  {
   "cell_type": "code",
   "execution_count": null,
   "metadata": {},
   "outputs": [],
   "source": []
  },
  {
   "cell_type": "code",
   "execution_count": null,
   "metadata": {},
   "outputs": [],
   "source": []
  },
  {
   "cell_type": "code",
   "execution_count": null,
   "metadata": {},
   "outputs": [],
   "source": []
  },
  {
   "cell_type": "code",
   "execution_count": null,
   "metadata": {},
   "outputs": [],
   "source": [
    "scplus_obj.metadata_cell"
   ]
  },
  {
   "cell_type": "code",
   "execution_count": null,
   "metadata": {},
   "outputs": [],
   "source": [
    "from scenicplus.wrappers.run_scenicplus import run_scenicplus\n",
    "try:\n",
    "    run_scenicplus(\n",
    "        scplus_obj = scplus_obj,\n",
    "        variable = ['GEX_label'],\n",
    "        species = 'hsapiens',\n",
    "        assembly = 'hg38',\n",
    "        tf_file = 'pbmc_tutorial/data/utoronto_human_tfs_v_1.01.txt',\n",
    "        save_path = os.path.join(work_dir, f'scenicplus'),\n",
    "        biomart_host = biomart_host,\n",
    "        upstream = [1000, 100000],\n",
    "        downstream = [1000, 100000],\n",
    "        calculate_TF_eGRN_correlation = True,\n",
    "        calculate_DEGs_DARs = True,\n",
    "        export_to_loom_file = False,\n",
    "        export_to_UCSC_file = False,\n",
    "        path_bedToBigBed = 'pbmc_tutorial',\n",
    "        n_cpu = 20,\n",
    "        _temp_dir = os.path.join(tmp_dir, 'ray_spill'))\n",
    "except Exception as e:\n",
    "    #in case of failure, still save the object\n",
    "    dill.dump(scplus_obj, open(os.path.join(work_dir, f'scenicplus/scplus_obj.pkl'), 'wb'), protocol=-1)\n",
    "    raise(e)"
   ]
  },
  {
   "cell_type": "markdown",
   "metadata": {},
   "source": [
    "## Downstream analysis\n",
    "\n",
    "We have finally finished the SCENIC+ analysis 🎉. Now we can start analysing the results, we will show some example analysis below but really the sky is the limit so feel free to be creative with your newly acquired eRegulons."
   ]
  },
  {
   "cell_type": "code",
   "execution_count": null,
   "metadata": {},
   "outputs": [],
   "source": [
    "import warnings\n",
    "warnings.simplefilter(action='ignore', category=FutureWarning)\n",
    "import sys\n",
    "_stderr = sys.stderr\n",
    "null = open(os.devnull,'wb')"
   ]
  },
  {
   "cell_type": "code",
   "execution_count": null,
   "metadata": {},
   "outputs": [],
   "source": [
    "import dill\n",
    "# work_dir = 'pbmc_tutorial'\n",
    "scplus_obj = dill.load(open(os.path.join(work_dir, f'scenicplus/scplus_obj.pkl'), 'rb'))"
   ]
  },
  {
   "cell_type": "code",
   "execution_count": null,
   "metadata": {},
   "outputs": [],
   "source": [
    "from scenicplus.preprocessing.filtering import apply_std_filtering_to_eRegulons\n",
    "apply_std_filtering_to_eRegulons(scplus_obj)"
   ]
  },
  {
   "cell_type": "markdown",
   "metadata": {},
   "source": [
    "This will create two new entries in the scenicplus object: `scplus_obj.uns['eRegulon_metadata_filtered']` and `scplus_obj.uns['eRegulon_signatures_filtered']` containing the simplified results.\n",
    "We will use these for downstream analysis."
   ]
  },
  {
   "cell_type": "code",
   "execution_count": null,
   "metadata": {},
   "outputs": [],
   "source": [
    "# scplus_obj.uns['eRegulon_metadata_filtered'].to_csv(\"senic_regulons_1e5_scenicplus_1e5_pseudo.csv\")"
   ]
  },
  {
   "cell_type": "markdown",
   "metadata": {},
   "source": [
    "### eRegulon enrichment scores\n",
    "We can score the enrichment of eRegulons using the AUCell function. This function takes as input a gene or region based ranking (ranking of genes/regions based on the expression/accessibility per cell) and a list of eRegulons.\n",
    "\n",
    "These values were already calculated in the wrapper function but let's recalculate them using the filtered output."
   ]
  },
  {
   "cell_type": "code",
   "execution_count": null,
   "metadata": {},
   "outputs": [],
   "source": [
    "from scenicplus.eregulon_enrichment import score_eRegulons\n",
    "region_ranking = dill.load(open(os.path.join(work_dir, f'scenicplus/region_ranking.pkl'), 'rb')) #load ranking calculated using the wrapper function\n",
    "gene_ranking = dill.load(open(os.path.join(work_dir, f'scenicplus/gene_ranking.pkl'), 'rb')) #load ranking calculated using the wrapper function\n",
    "score_eRegulons(scplus_obj,\n",
    "                ranking = region_ranking,\n",
    "                eRegulon_signatures_key = 'eRegulon_signatures_filtered',\n",
    "                key_added = 'eRegulon_AUC_filtered',\n",
    "                enrichment_type= 'region',\n",
    "                auc_threshold = 0.05,\n",
    "                normalize = False,\n",
    "                n_cpu = 20)\n",
    "score_eRegulons(scplus_obj,\n",
    "                gene_ranking,\n",
    "                eRegulon_signatures_key = 'eRegulon_signatures_filtered',\n",
    "                key_added = 'eRegulon_AUC_filtered',\n",
    "                enrichment_type = 'gene',\n",
    "                auc_threshold = 0.05,\n",
    "                normalize= False,\n",
    "                n_cpu = 20)"
   ]
  },
  {
   "cell_type": "code",
   "execution_count": null,
   "metadata": {},
   "outputs": [],
   "source": [
    "from scenicplus.dimensionality_reduction import run_eRegulons_tsne, run_eRegulons_umap\n",
    "run_eRegulons_umap(\n",
    "    scplus_obj = scplus_obj,\n",
    "    auc_key = 'eRegulon_AUC_filtered',\n",
    "    reduction_name = 'eRegulons_UMAP', #overwrite previously calculated UMAP\n",
    ")\n",
    "run_eRegulons_tsne(\n",
    "    scplus_obj = scplus_obj,\n",
    "    auc_key = 'eRegulon_AUC_filtered',\n",
    "    reduction_name = 'eRegulons_tSNE', #overwrite previously calculated tSNE\n",
    ")"
   ]
  },
  {
   "cell_type": "code",
   "execution_count": null,
   "metadata": {},
   "outputs": [],
   "source": [
    "from scenicplus.dimensionality_reduction import plot_metadata_given_ax\n",
    "import matplotlib.pyplot as plt\n",
    "import seaborn as sns\n",
    "%matplotlib inline\n",
    "\n",
    "# #specify color_dictionary\n",
    "\n",
    "# color_dict = {\n",
    "#     'B_cells_1': \"#065143\",\n",
    "#     'B_cells_2': \"#70B77E\",\n",
    "#     'CD4_T_cells': \"#E0A890\",\n",
    "#     'CD8_T_cells': \"#F56476\",\n",
    "#     'NK_cells': \"#CE1483\",\n",
    "#     'Dendritic_cells': \"#053C5E\" ,\n",
    "#     'FCGR3A+_Monocytes': \"#38A3A5\",\n",
    "#     'CD14+_Monocytes': \"#80ED99\"\n",
    "# }\n",
    "\n",
    "# fig, axs = plt.subplots(ncols=2, figsize = (16, 8))\n",
    "# plot_metadata_given_ax(\n",
    "#     scplus_obj=scplus_obj,\n",
    "#     ax = axs[0],\n",
    "#     reduction_name = 'eRegulons_UMAP',\n",
    "#     variable = 'GEX_celltype', #note the GEX_ prefix, this metadata originated from the gene expression metadata (on which we did the cell type annotation before)\n",
    "#     color_dictionary={'GEX_celltype': color_dict}\n",
    "# )\n",
    "# plot_metadata_given_ax(\n",
    "#     scplus_obj=scplus_obj,\n",
    "#     ax = axs[1],\n",
    "#     reduction_name = 'eRegulons_tSNE',\n",
    "#     variable = 'GEX_celltype', #note the GEX_ prefix, this metadata originated from the gene expression metadata (on which we did the cell type annotation before)\n",
    "#     color_dictionary={'GEX_celltype': color_dict}\n",
    "# )\n",
    "# fig.tight_layout()\n",
    "# sns.despine(ax = axs[0]) #remove top and right edge of axis border\n",
    "# sns.despine(ax = axs[1]) #remove top and right edge of axis border\n",
    "# plt.show()"
   ]
  },
  {
   "cell_type": "markdown",
   "metadata": {},
   "source": [
    "### plot the activity / expression of an eRegulon on the dimensionality reduction\n",
    "\n",
    "Nex we visualize the gene expression and target gene and region activity of some eRegulons on the tSNE."
   ]
  },
  {
   "cell_type": "code",
   "execution_count": null,
   "metadata": {},
   "outputs": [],
   "source": [
    "from scenicplus.cistromes import TF_cistrome_correlation, generate_pseudobulks\n",
    "\n",
    "generate_pseudobulks(\n",
    "        scplus_obj = scplus_obj,\n",
    "        variable = 'GEX_label',\n",
    "        auc_key = 'eRegulon_AUC_filtered',\n",
    "        signature_key = 'Gene_based')\n",
    "generate_pseudobulks(\n",
    "        scplus_obj = scplus_obj,\n",
    "        variable = 'GEX_label',\n",
    "        auc_key = 'eRegulon_AUC_filtered',\n",
    "        signature_key = 'Region_based')\n",
    "\n",
    "TF_cistrome_correlation(\n",
    "            scplus_obj,\n",
    "            use_pseudobulk = True,\n",
    "            variable = 'GEX_label',\n",
    "            auc_key = 'eRegulon_AUC_filtered',\n",
    "            signature_key = 'Gene_based',\n",
    "            out_key = 'filtered_gene_based')\n",
    "TF_cistrome_correlation(\n",
    "            scplus_obj,\n",
    "            use_pseudobulk = True,\n",
    "            variable = 'GEX_label',\n",
    "            auc_key = 'eRegulon_AUC_filtered',\n",
    "            signature_key = 'Region_based',\n",
    "            out_key = 'filtered_region_based')"
   ]
  },
  {
   "cell_type": "code",
   "execution_count": null,
   "metadata": {},
   "outputs": [],
   "source": [
    "scplus_obj.uns['TF_cistrome_correlation']['filtered_region_based'].head()"
   ]
  },
  {
   "cell_type": "markdown",
   "metadata": {},
   "source": [
    "Let's visualize these correlations in a scatter plot and select eRegulons for which the correlaiton coefficient is above 0.70 or below -0.75"
   ]
  },
  {
   "cell_type": "code",
   "execution_count": null,
   "metadata": {},
   "outputs": [],
   "source": [
    "import numpy as np\n",
    "n_targets = [int(x.split('(')[1].replace('r)', '')) for x in scplus_obj.uns['TF_cistrome_correlation']['filtered_region_based']['Cistrome']]\n",
    "rho = scplus_obj.uns['TF_cistrome_correlation']['filtered_region_based']['Rho'].to_list()\n",
    "adj_pval = scplus_obj.uns['TF_cistrome_correlation']['filtered_region_based']['Adjusted_p-value'].to_list()\n",
    "\n",
    "thresholds = {\n",
    "        'rho': [-0.0, 0.0],\n",
    "        'n_targets': 0\n",
    "}\n",
    "import seaborn as sns\n",
    "\n",
    "fig, ax = plt.subplots(figsize = (10, 5))\n",
    "sc = ax.scatter(rho, n_targets, c = -np.log10(adj_pval), s = 5)\n",
    "ax.set_xlabel('Correlation coefficient')\n",
    "ax.set_ylabel('nr. target regions')\n",
    "#ax.hlines(y = thresholds['n_targets'], xmin = min(rho), xmax = max(rho), color = 'black', ls = 'dashed', lw = 1)\n",
    "ax.vlines(x = thresholds['rho'], ymin = 0, ymax = max(n_targets), color = 'black', ls = 'dashed', lw = 1)\n",
    "ax.text(x = thresholds['rho'][0], y = max(n_targets), s = str(thresholds['rho'][0]))\n",
    "ax.text(x = thresholds['rho'][1], y = max(n_targets), s = str(thresholds['rho'][1]))\n",
    "sns.despine(ax = ax)\n",
    "fig.colorbar(sc, label = '-log10(adjusted_pvalue)', ax = ax)\n",
    "plt.show()"
   ]
  },
  {
   "cell_type": "code",
   "execution_count": null,
   "metadata": {},
   "outputs": [],
   "source": [
    "selected_cistromes = scplus_obj.uns['TF_cistrome_correlation']['filtered_region_based'].loc[\n",
    "        np.logical_or(\n",
    "                scplus_obj.uns['TF_cistrome_correlation']['filtered_region_based']['Rho'] > thresholds['rho'][1],\n",
    "                scplus_obj.uns['TF_cistrome_correlation']['filtered_region_based']['Rho'] < thresholds['rho'][0]\n",
    "        )]['Cistrome'].to_list()\n",
    "selected_eRegulons = [x.split('_(')[0] for x in selected_cistromes]\n",
    "selected_eRegulons_gene_sig = [\n",
    "        x for x in scplus_obj.uns['eRegulon_signatures_filtered']['Gene_based'].keys()\n",
    "        if x.split('_(')[0] in selected_eRegulons]\n",
    "selected_eRegulons_region_sig = [\n",
    "        x for x in scplus_obj.uns['eRegulon_signatures_filtered']['Region_based'].keys()\n",
    "        if x.split('_(')[0] in selected_eRegulons]\n",
    "#save the results in the scenicplus object\n",
    "scplus_obj.uns['selected_eRegulon'] = {'Gene_based': selected_eRegulons_gene_sig, 'Region_based': selected_eRegulons_region_sig}\n",
    "print(f'selected: {len(selected_eRegulons_gene_sig)} eRegulons')"
   ]
  },
  {
   "cell_type": "code",
   "execution_count": null,
   "metadata": {},
   "outputs": [],
   "source": [
    "scplus_obj.uns.keys()"
   ]
  },
  {
   "cell_type": "code",
   "execution_count": null,
   "metadata": {},
   "outputs": [],
   "source": [
    "work_dir"
   ]
  },
  {
   "cell_type": "markdown",
   "metadata": {},
   "source": [
    "Let's save these changes we have made to the scenicplus_obj"
   ]
  },
  {
   "cell_type": "code",
   "execution_count": null,
   "metadata": {},
   "outputs": [],
   "source": [
    "dill.dump(scplus_obj, open(os.path.join(work_dir, f'scenicplus/scplus_obj.pkl'), 'wb'), protocol=-1)"
   ]
  },
  {
   "cell_type": "code",
   "execution_count": null,
   "metadata": {},
   "outputs": [],
   "source": [
    "import dill\n",
    "scplus_obj = dill.load(open(os.path.join(work_dir, f'scenicplus/scplus_obj.pkl'), 'rb'))"
   ]
  },
  {
   "cell_type": "markdown",
   "metadata": {},
   "source": [
    "### overlap of predicted target regions\n",
    "An interesting aspect of gene regulation is transcription factor cooperativity (i.e. multiple TFs cobinding the same enhancer together driving gene expression). \n",
    "\n",
    "By looking at the overlap of predicted target regions of TFs we can infer potential cooperativity events.\n",
    "\n",
    "Let's look at the overlap of target regions of the top 5 TFs per cell type based on the Regulon Specificity Score (RSS). \n",
    "\n",
    "First we calculate the RSS for the target regions of the selected eRegulons."
   ]
  },
  {
   "cell_type": "code",
   "execution_count": null,
   "metadata": {},
   "outputs": [],
   "source": [
    "from scenicplus.RSS import *\n",
    "regulon_specificity_scores(\n",
    "        scplus_obj,\n",
    "        variable = 'GEX_label',\n",
    "        auc_key = 'eRegulon_AUC_filtered',\n",
    "        signature_keys = ['Region_based'],\n",
    "        selected_regulons = [x for x in scplus_obj.uns['selected_eRegulon']['Region_based'] if '-' not in x],\n",
    "        out_key_suffix = '_filtered')"
   ]
  },
  {
   "cell_type": "markdown",
   "metadata": {},
   "source": [
    "Let's visualize the RSS values using a scatter plot"
   ]
  },
  {
   "cell_type": "code",
   "execution_count": null,
   "metadata": {},
   "outputs": [],
   "source": [
    "# plot_rss(scplus_obj, 'GEX_celltype_filtered', num_columns=2, top_n=10, figsize = (5, 10))"
   ]
  },
  {
   "cell_type": "markdown",
   "metadata": {},
   "source": [
    "Next we select the top 10 eRegulons per cell type"
   ]
  },
  {
   "cell_type": "code",
   "execution_count": null,
   "metadata": {},
   "outputs": [],
   "source": [
    "flat_list = lambda t: [item for sublist in t for item in sublist]\n",
    "selected_markers = list(set(flat_list(\n",
    "    [scplus_obj.uns['RSS']['GEX_label_filtered'].loc[celltype].sort_values(ascending = False).head(10).index.to_list() \n",
    "    for celltype in scplus_obj.uns['RSS']['GEX_label_filtered'].index])))"
   ]
  },
  {
   "cell_type": "code",
   "execution_count": null,
   "metadata": {},
   "outputs": [],
   "source": [
    "df = scplus_obj.uns['RSS']['GEX_label_filtered']\n",
    "eregulons = scplus_obj.uns['eRegulon_metadata_filtered']\n",
    "eregulons"
   ]
  },
  {
   "cell_type": "code",
   "execution_count": null,
   "metadata": {},
   "outputs": [],
   "source": [
    "eregulons = scplus_obj.uns['eRegulon_metadata_filtered']\n",
    "eregulons"
   ]
  },
  {
   "cell_type": "code",
   "execution_count": null,
   "metadata": {},
   "outputs": [],
   "source": [
    "# Get top 30 genes per cell\n",
    "tops = [5,10,15,20]\n",
    "for top in tops:\n",
    "    top_genes_per_cell = pd.DataFrame(index=range(top), columns=df.index)\n",
    "\n",
    "    for cell in df.index:\n",
    "        # Sort the genes by correlation values in descending order\n",
    "        top_genes = df.loc[cell].sort_values(ascending=False).head(top).index\n",
    "        # Add the top genes as a column in the result DataFrame\n",
    "        eregulons[eregulons['Region_signature_name'].isin(top_genes)].to_csv(f'/users/tpham43/rsingh47/tpham43/GROT/tutorial_snare/scenicplus/multiomic/scenicplus/{top}_scenic_{cell}.tsv', sep ='\\t')\n",
    "\n",
    "# Display the top 30 genes for each cell\n",
    "top_genes"
   ]
  },
  {
   "cell_type": "code",
   "execution_count": null,
   "metadata": {},
   "outputs": [],
   "source": [
    "eregulons.to_csv(f'/users/tpham43/rsingh47/tpham43/GROT/tutorial_snare/scenicplus/multiomic/scenicplus/full_scenic_{cell}.tsv', sep ='\\t')\n"
   ]
  },
  {
   "cell_type": "code",
   "execution_count": null,
   "metadata": {},
   "outputs": [],
   "source": [
    "from scenicplus.plotting.correlation_plot import *\n",
    "\n",
    "region_intersetc_data, Z = jaccard_heatmap(\n",
    "        scplus_obj,\n",
    "        method = 'intersect',\n",
    "        gene_or_region_based = 'Region_based',\n",
    "        use_plotly = False,\n",
    "        selected_regulons = selected_markers,\n",
    "        signature_key = 'eRegulon_signatures_filtered',\n",
    "        figsize = (10, 10), return_data = True, vmax = 0.5, cmap = 'plasma')"
   ]
  },
  {
   "cell_type": "markdown",
   "metadata": {},
   "source": [
    "The files in the folder `scATAC/consensus_peak_calling/pseudobulk_bw_files/*` and `scATAC/consensus_peak_calling/MACS/*.narrowPeak` are very useful for visualising cell type specific region accessibility in IGV or the UCSC genomebrowser. You can combine this (only in the UCSC genome browser) with `scenicplus/eRegulons.bb`, `scenicplus/r2g.importance.bb` and/or `scenicplus/r2g.rho.bb` to get a more complete view including region to gene links and predicted eRegulon bindin sites.\n",
    "\n",
    "The files `scenicplus/SCENIC+_gene_based.loom` and `scenicplus/SCENIC+_region_based.loom` can be visualized in SCope.\n",
    "\n",
    "The file: `scenicplus/network_B_cells.cys` can be visualised in Cytoscape."
   ]
  },
  {
   "cell_type": "code",
   "execution_count": null,
   "metadata": {},
   "outputs": [],
   "source": []
  }
 ],
 "metadata": {
  "kernelspec": {
   "display_name": "gridot",
   "language": "python",
   "name": "gridot"
  },
  "language_info": {
   "codemirror_mode": {
    "name": "ipython",
    "version": 3
   },
   "file_extension": ".py",
   "mimetype": "text/x-python",
   "name": "python",
   "nbconvert_exporter": "python",
   "pygments_lexer": "ipython3",
   "version": "3.9.16"
  },
  "vscode": {
   "interpreter": {
    "hash": "eb4bb617a32919d4a1b52f44f72e24e3739c7442a4f58a7bc491ec635ac76433"
   }
  }
 },
 "nbformat": 4,
 "nbformat_minor": 2
}
