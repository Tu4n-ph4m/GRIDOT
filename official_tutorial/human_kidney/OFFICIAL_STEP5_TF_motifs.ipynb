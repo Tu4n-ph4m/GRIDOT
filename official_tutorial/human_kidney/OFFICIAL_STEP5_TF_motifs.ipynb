{
 "cells": [
  {
   "cell_type": "code",
   "execution_count": 9,
   "id": "6df788b8",
   "metadata": {},
   "outputs": [],
   "source": [
    "import scanpy as sc\n",
    "import os\n",
    "import warnings\n",
    "warnings.filterwarnings(\"ignore\")\n",
    "import pandas\n",
    "import sys\n",
    "_stderr = sys.stderr\n",
    "null = open(os.devnull,'wb')\n",
    "import itertools\n",
    "import anndata\n",
    "import pandas as pd\n",
    "# Load cistarget functions\n",
    "from pycistarget.motif_enrichment_cistarget import *\n"
   ]
  },
  {
   "cell_type": "code",
   "execution_count": 10,
   "id": "b395dc7b",
   "metadata": {},
   "outputs": [
    {
     "name": "stdout",
     "output_type": "stream",
     "text": [
      "Using seed: 1\n"
     ]
    }
   ],
   "source": [
    "seed = 1\n",
    "print(f\"Using seed: {seed}\")\n",
    "\n",
    "outfile = f\"./testing_results_pseudo/seed_{seed}/CRE_gene_cell_population.tsv\""
   ]
  },
  {
   "cell_type": "code",
   "execution_count": 11,
   "id": "80dfab9b",
   "metadata": {},
   "outputs": [],
   "source": [
    "results = pd.read_csv(outfile, sep ='\\t',index_col = 0)\n"
   ]
  },
  {
   "cell_type": "code",
   "execution_count": 12,
   "id": "b8fb9085",
   "metadata": {},
   "outputs": [
    {
     "name": "stdout",
     "output_type": "stream",
     "text": [
      "         chr     start       end\n",
      "0       chr1    778219    779393\n",
      "1       chr1    778219    779393\n",
      "2       chr1    826772    827922\n",
      "3       chr1    826772    827922\n",
      "4       chr1    826772    827922\n",
      "...      ...       ...       ...\n",
      "188301  chrY  12904476  12905923\n",
      "188302  chrY  13282692  13283155\n",
      "188303  chrY  14524430  14524989\n",
      "188304  chrY  19744506  19745162\n",
      "188305  chrY  20575346  20576097\n",
      "\n",
      "[188306 rows x 3 columns]\n"
     ]
    }
   ],
   "source": [
    "split_columns = results['CRE'].str.split(':|-', expand=True)\n",
    "split_columns.columns = ['chr', 'start', 'end']  # Rename the new columns\n",
    "results = pd.concat([results, split_columns], axis=1)\n",
    "grouped = results.groupby(\"Gene\")\n",
    "results = results[['chr', 'start', 'end']]\n",
    "print(results)\n"
   ]
  },
  {
   "cell_type": "code",
   "execution_count": 13,
   "id": "2ddc2705",
   "metadata": {},
   "outputs": [],
   "source": [
    "import os\n",
    "outDir =f'./testing_results_pseudo/seed_{seed}/TF_motif/bedfile/'\n",
    "if not os.path.exists(outDir):\n",
    "    print(outDir)\n",
    "    os.makedirs(outDir)"
   ]
  },
  {
   "cell_type": "code",
   "execution_count": 14,
   "id": "e3d6733c",
   "metadata": {},
   "outputs": [
    {
     "name": "stderr",
     "output_type": "stream",
     "text": [
      "\n",
      "KeyboardInterrupt\n",
      "\n"
     ]
    }
   ],
   "source": [
    "top_percentile = 0.2\n",
    "\n",
    "for category, group in grouped:\n",
    "\n",
    "    if \"/\" in category:\n",
    "        continue\n",
    "    threshold_value = group['rss_ratio'].quantile(1 - top_percentile)\n",
    "\n",
    "    top_rows = group[group['rss_ratio'] >= threshold_value]\n",
    "    top_rows = top_rows[['chr', 'start', 'end']]\n",
    "    top_rows.to_csv(outDir+category+\".bed\",sep=\"\\t\",index=False)"
   ]
  },
  {
   "cell_type": "code",
   "execution_count": 8,
   "id": "aa47ce60",
   "metadata": {},
   "outputs": [
    {
     "name": "stdout",
     "output_type": "stream",
     "text": [
      "./results/TF_motif/bedfile/\n"
     ]
    }
   ],
   "source": [
    "import pyranges as pr\n",
    "import os\n",
    "path_to_region_sets = outDir\n",
    "print(path_to_region_sets)\n",
    "region_sets_files = os.listdir(path_to_region_sets)\n",
    "region_sets = {}\n",
    "i=0\n",
    "for x in region_sets_files:\n",
    "\n",
    "    temp_doc = pr.read_bed(os.path.join(path_to_region_sets, x)) \n",
    "    if len(temp_doc) <10:\n",
    "        continue\n",
    "    else:\n",
    "        i+=1\n",
    "#         print(len(temp_doc),i)\n",
    "        region_sets[x.replace('.bed', '')] = temp_doc\n"
   ]
  },
  {
   "cell_type": "code",
   "execution_count": 9,
   "id": "84e8e70c",
   "metadata": {
    "scrolled": true
   },
   "outputs": [],
   "source": [
    "db = './data/hg38_screen_v10_clust.regions_vs_motifs.rankings.feather'"
   ]
  },
  {
   "cell_type": "code",
   "execution_count": 10,
   "id": "1bea897a",
   "metadata": {},
   "outputs": [],
   "source": [
    "def identify_all_TF_gene_link_candidates(rna_TF_dictionary):\n",
    "\n",
    "    # Flattening the dictionary\n",
    "    flat_data = [(v, k) for k, lst in rna_TF_dictionary.items() for v in lst ]\n",
    "\n",
    "    # Creating DataFrame\n",
    "    df = pd.DataFrame(flat_data, columns=['TF', 'Gene'])\n",
    "    return df"
   ]
  },
  {
   "cell_type": "code",
   "execution_count": 11,
   "id": "f4f1d4b5",
   "metadata": {},
   "outputs": [],
   "source": [
    "def read_dictionary_in_chunks(dictionary, chunk_size, db, specie='homo_sapiens', outDir=outDir):\n",
    "    keys = list(dictionary.keys())\n",
    "    print(f\"Total keys: {len(keys)}\")\n",
    "    \n",
    "    os.makedirs(outDir, exist_ok=True)  # Ensure output directory exists\n",
    "\n",
    "    for i in range(0, len(keys), chunk_size):\n",
    "        print(f\"{i}\")\n",
    "        chunk = {key: dictionary[key] for key in keys[i:i + chunk_size]}\n",
    "\n",
    "        try:\n",
    "            print(\"Initializing database...\")\n",
    "            ctx_db = cisTargetDatabase(db, chunk)\n",
    "\n",
    "            print(\"Running cisTarget...\")\n",
    "            cistarget_dict = run_cistarget(\n",
    "                ctx_db=ctx_db,\n",
    "                region_sets=chunk,\n",
    "                specie=specie,\n",
    "                annotation_version='v10nr_clust',\n",
    "                auc_threshold=0.005,\n",
    "                nes_threshold=3.0,\n",
    "                rank_threshold=0.05,\n",
    "                annotation=['Direct_annot', 'Orthology_annot'],\n",
    "                n_cpu=18,\n",
    "                _temp_dir='/users/tpham43/'\n",
    "            )\n",
    "            \n",
    "            print(\"Processing cisTarget results...\")\n",
    "            filtered_data = {\n",
    "                key: [TF.split('_')[0] for TF in values.cistromes['Region_set'].keys()]\n",
    "                for key, values in cistarget_dict.items()\n",
    "            }\n",
    "\n",
    "            output_file = os.path.join(outDir, f\"TF_gene_OT_{i}.csv\")\n",
    "            print(f\"Writing results to {output_file}\")\n",
    "            identify_all_TF_gene_link_candidates(filtered_data).to_csv(output_file)\n",
    "\n",
    "        except Exception as e:\n",
    "            print(f\"Error processing chunk starting at index {i}: {e}\")\n",
    "            continue"
   ]
  },
  {
   "cell_type": "code",
   "execution_count": 8,
   "id": "65e80c3b",
   "metadata": {},
   "outputs": [
    {
     "ename": "NameError",
     "evalue": "name 'read_dictionary_in_chunks' is not defined",
     "output_type": "error",
     "traceback": [
      "\u001b[0;31m---------------------------------------------------------------------------\u001b[0m",
      "\u001b[0;31mNameError\u001b[0m                                 Traceback (most recent call last)",
      "Cell \u001b[0;32mIn[8], line 3\u001b[0m\n\u001b[1;32m      1\u001b[0m \u001b[38;5;28;01mimport\u001b[39;00m \u001b[38;5;21;01mray\u001b[39;00m\n\u001b[1;32m      2\u001b[0m ray\u001b[38;5;241m.\u001b[39mshutdown()\n\u001b[0;32m----> 3\u001b[0m \u001b[43mread_dictionary_in_chunks\u001b[49m(region_sets,\u001b[38;5;241m200\u001b[39m,db \u001b[38;5;241m=\u001b[39mdb)\n",
      "\u001b[0;31mNameError\u001b[0m: name 'read_dictionary_in_chunks' is not defined"
     ]
    }
   ],
   "source": [
    "import ray\n",
    "ray.shutdown()\n",
    "read_dictionary_in_chunks(region_sets,200,db =db)"
   ]
  },
  {
   "cell_type": "code",
   "execution_count": null,
   "id": "7ff6c4d3",
   "metadata": {},
   "outputs": [],
   "source": []
  },
  {
   "cell_type": "code",
   "execution_count": 20,
   "id": "5ece1180",
   "metadata": {},
   "outputs": [
    {
     "name": "stdout",
     "output_type": "stream",
     "text": [
      "Done\n"
     ]
    }
   ],
   "source": [
    "# Specify the folder path\n",
    "folder_path = outDir\n",
    "\n",
    "# Get a list of all files in the folder\n",
    "all_files = [os.path.join(folder_path, f) for f in os.listdir(folder_path) if os.path.isfile(os.path.join(folder_path, f))]\n",
    "\n",
    "# Filter the list for CSV files\n",
    "csv_files = [f for f in all_files if f.endswith('.csv')]\n",
    "\n",
    "# Read all CSV files into a list of DataFrames\n",
    "dataframes = [pd.read_csv(f,index_col=0) for f in csv_files]\n",
    "\n",
    "# Combine all DataFrames into a single DataFrame\n",
    "candidate_df = pd.concat(dataframes, ignore_index=True)\n",
    "\n",
    "candidate_df = candidate_df.drop_duplicates()\n",
    "rna_anndata = sc.read_h5ad(\"./data/rna_data_filtered_pca_1control_5cells_real.h5ad\")\n",
    "\n",
    "# rna_anndata = sc.read_h5ad('./data/rna_downsampled_snare.h5ad')\n",
    "\n",
    "# Check if raw data exists\n",
    "if rna_anndata.raw is not None:\n",
    "    # Access the raw data\n",
    "    raw_data = rna_anndata.raw.X\n",
    "    raw_obs = rna_anndata.obs.copy()  # Cell metadata (unchanged)\n",
    "    raw_var = rna_anndata.raw.var.copy()  # Gene metadata (original raw genes)\n",
    "\n",
    "    # Create a new AnnData object using the raw data\n",
    "    rna_anndata = sc.AnnData(X=raw_data, obs=raw_obs, var=raw_var)\n",
    "\n",
    "    # Print the new raw AnnData object to verify\n",
    "    print(rna_anndata)\n",
    "\n",
    "candidate_df = candidate_df[candidate_df['Gene'].isin(rna_anndata.var.index.values)]\n",
    "\n",
    "candidate_df.rename(columns={'TF': 'Source', 'Gene': 'Target'}, inplace=True)\n",
    "\n",
    "candidate_df.to_csv(f\"./testing_results_pseudo/seed_{seed}/TF_motif/putative_TF_gene.tsv\",sep = '\\t')\n",
    "\n",
    "print(\"Done\")\n"
   ]
  },
  {
   "cell_type": "code",
   "execution_count": null,
   "id": "9cede8ee",
   "metadata": {},
   "outputs": [],
   "source": []
  }
 ],
 "metadata": {
  "kernelspec": {
   "display_name": "scenicplus",
   "language": "python",
   "name": "scenicplus"
  },
  "language_info": {
   "codemirror_mode": {
    "name": "ipython",
    "version": 3
   },
   "file_extension": ".py",
   "mimetype": "text/x-python",
   "name": "python",
   "nbconvert_exporter": "python",
   "pygments_lexer": "ipython3",
   "version": "3.9.16"
  }
 },
 "nbformat": 4,
 "nbformat_minor": 5
}
